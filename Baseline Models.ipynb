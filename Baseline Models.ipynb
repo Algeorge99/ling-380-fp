{
 "cells": [
  {
   "cell_type": "code",
   "execution_count": 1,
   "metadata": {
    "scrolled": true
   },
   "outputs": [
    {
     "name": "stderr",
     "output_type": "stream",
     "text": [
      "C:\\Users\\owltu\\Anaconda3\\lib\\site-packages\\pandas\\compat\\_optional.py:138: UserWarning: Pandas requires version '2.7.0' or newer of 'numexpr' (version '2.6.9' currently installed).\n",
      "  warnings.warn(msg, UserWarning)\n",
      "C:\\Users\\owltu\\Anaconda3\\lib\\site-packages\\statsmodels\\tools\\_testing.py:19: FutureWarning: pandas.util.testing is deprecated. Use the functions in the public API at pandas.testing instead.\n",
      "  import pandas.util.testing as tm\n"
     ]
    }
   ],
   "source": [
    "import pandas as pd\n",
    "import numpy as np\n",
    "import re\n",
    "from pathlib import Path\n",
    "import json\n",
    "import seaborn as sns\n",
    "from collections import Counter\n",
    "import nltk\n",
    "import scipy\n",
    "import sklearn\n",
    "from sklearn.model_selection import train_test_split\n",
    "from sklearn.feature_extraction.text import CountVectorizer, TfidfVectorizer\n",
    "from sklearn.naive_bayes import MultinomialNB"
   ]
  },
  {
   "cell_type": "code",
   "execution_count": 2,
   "metadata": {},
   "outputs": [],
   "source": [
    "from sklearn.metrics import accuracy_score, precision_score, recall_score\n",
    "from sklearn.metrics import f1_score, mean_squared_error\n",
    "from sklearn.metrics import classification_report\n",
    "from sklearn.metrics import confusion_matrix"
   ]
  },
  {
   "cell_type": "code",
   "execution_count": 32,
   "metadata": {},
   "outputs": [],
   "source": [
    "from sklearn.linear_model import SGDClassifier\n",
    "from sklearn.preprocessing import StandardScaler\n",
    "from sklearn.pipeline import make_pipeline"
   ]
  },
  {
   "cell_type": "code",
   "execution_count": 3,
   "metadata": {},
   "outputs": [],
   "source": [
    "import matplotlib.pyplot as plt\n",
    "from sklearn.metrics import plot_confusion_matrix"
   ]
  },
  {
   "cell_type": "markdown",
   "metadata": {},
   "source": [
    "#### Data Cleaning"
   ]
  },
  {
   "cell_type": "code",
   "execution_count": 17,
   "metadata": {
    "scrolled": true
   },
   "outputs": [],
   "source": [
    "yelp = pd.read_csv(\"yelp_balanced.csv\")"
   ]
  },
  {
   "cell_type": "code",
   "execution_count": 18,
   "metadata": {
    "scrolled": false
   },
   "outputs": [
    {
     "data": {
      "text/html": [
       "<div>\n",
       "<style scoped>\n",
       "    .dataframe tbody tr th:only-of-type {\n",
       "        vertical-align: middle;\n",
       "    }\n",
       "\n",
       "    .dataframe tbody tr th {\n",
       "        vertical-align: top;\n",
       "    }\n",
       "\n",
       "    .dataframe thead th {\n",
       "        text-align: right;\n",
       "    }\n",
       "</style>\n",
       "<table border=\"1\" class=\"dataframe\">\n",
       "  <thead>\n",
       "    <tr style=\"text-align: right;\">\n",
       "      <th></th>\n",
       "      <th>Unnamed: 0</th>\n",
       "      <th>review_id</th>\n",
       "      <th>user_id</th>\n",
       "      <th>business_id</th>\n",
       "      <th>stars</th>\n",
       "      <th>date</th>\n",
       "      <th>text</th>\n",
       "      <th>useful</th>\n",
       "      <th>funny</th>\n",
       "      <th>cool</th>\n",
       "    </tr>\n",
       "  </thead>\n",
       "  <tbody>\n",
       "    <tr>\n",
       "      <th>0</th>\n",
       "      <td>111089</td>\n",
       "      <td>S3r97tHMkzR4O-tiIIzwOQ</td>\n",
       "      <td>r0GLQAawvHXUd-xZow-fWQ</td>\n",
       "      <td>mzREMIknfmagJugibXrCsQ</td>\n",
       "      <td>4</td>\n",
       "      <td>2017-04-14</td>\n",
       "      <td>Food is tasty, it's usually busy, but there al...</td>\n",
       "      <td>0</td>\n",
       "      <td>0</td>\n",
       "      <td>0</td>\n",
       "    </tr>\n",
       "    <tr>\n",
       "      <th>1</th>\n",
       "      <td>674606</td>\n",
       "      <td>lZTYcQXntUsLptcWCqyhmg</td>\n",
       "      <td>bDs5_ek9esUkgxFm1jFxfg</td>\n",
       "      <td>aZG9Hp8fdgzq37iuB1QTYg</td>\n",
       "      <td>1</td>\n",
       "      <td>2017-10-01</td>\n",
       "      <td>Probably one of the worst experiences I've eve...</td>\n",
       "      <td>1</td>\n",
       "      <td>0</td>\n",
       "      <td>0</td>\n",
       "    </tr>\n",
       "    <tr>\n",
       "      <th>2</th>\n",
       "      <td>3329480</td>\n",
       "      <td>sStohXbOEdPyrutK3zJSmg</td>\n",
       "      <td>mus1d8cMxuEJmP0zfV19hg</td>\n",
       "      <td>I4Nr-MVc26qWr08-S3Q1ow</td>\n",
       "      <td>4</td>\n",
       "      <td>2017-01-19</td>\n",
       "      <td>I was looking for a place to grab a quick bite...</td>\n",
       "      <td>0</td>\n",
       "      <td>0</td>\n",
       "      <td>0</td>\n",
       "    </tr>\n",
       "    <tr>\n",
       "      <th>3</th>\n",
       "      <td>3641542</td>\n",
       "      <td>Pvw7lbeyGGLVALvK0DwgDA</td>\n",
       "      <td>qrwH8z4nNUabqlsnwNoDCg</td>\n",
       "      <td>vAbRNF0hJt91oCUpm_sdKw</td>\n",
       "      <td>3</td>\n",
       "      <td>2014-01-09</td>\n",
       "      <td>Meh, fish was a bit rubbery for $34 swordfish....</td>\n",
       "      <td>1</td>\n",
       "      <td>0</td>\n",
       "      <td>0</td>\n",
       "    </tr>\n",
       "    <tr>\n",
       "      <th>4</th>\n",
       "      <td>2054056</td>\n",
       "      <td>XWN8BVvLwcmgEW6xZuOKpg</td>\n",
       "      <td>cYvO88wNlRc_gd03caBZ7Q</td>\n",
       "      <td>sNVGdeOPeitJ3OWUQBINzQ</td>\n",
       "      <td>4</td>\n",
       "      <td>2012-02-29</td>\n",
       "      <td>I've heard so much about this place.. and I mu...</td>\n",
       "      <td>2</td>\n",
       "      <td>2</td>\n",
       "      <td>3</td>\n",
       "    </tr>\n",
       "    <tr>\n",
       "      <th>...</th>\n",
       "      <td>...</td>\n",
       "      <td>...</td>\n",
       "      <td>...</td>\n",
       "      <td>...</td>\n",
       "      <td>...</td>\n",
       "      <td>...</td>\n",
       "      <td>...</td>\n",
       "      <td>...</td>\n",
       "      <td>...</td>\n",
       "      <td>...</td>\n",
       "    </tr>\n",
       "    <tr>\n",
       "      <th>149995</th>\n",
       "      <td>4137925</td>\n",
       "      <td>-EfkdreWNtk2MsHYE-nv7Q</td>\n",
       "      <td>vRG_9sj-iFliiUKqZCVGRA</td>\n",
       "      <td>Rb2s2-2kIvbPXnPEuM_OBg</td>\n",
       "      <td>1</td>\n",
       "      <td>2015-06-13</td>\n",
       "      <td>Never ever will I dine or drink in this place ...</td>\n",
       "      <td>0</td>\n",
       "      <td>0</td>\n",
       "      <td>0</td>\n",
       "    </tr>\n",
       "    <tr>\n",
       "      <th>149996</th>\n",
       "      <td>2702734</td>\n",
       "      <td>VcLVmt3nMU4EW3D50SG2tA</td>\n",
       "      <td>NIeLhx7kQ7KROhH2zs5qYw</td>\n",
       "      <td>148d7J-cFejkhYV89y3Jsg</td>\n",
       "      <td>4</td>\n",
       "      <td>2010-11-28</td>\n",
       "      <td>It's 3.5 stars for me this time since the ride...</td>\n",
       "      <td>2</td>\n",
       "      <td>0</td>\n",
       "      <td>0</td>\n",
       "    </tr>\n",
       "    <tr>\n",
       "      <th>149997</th>\n",
       "      <td>4604320</td>\n",
       "      <td>D4EnQl1-Vgpfx0P-wxZM6w</td>\n",
       "      <td>RV0ljoUuwfkPYtzvT03W9g</td>\n",
       "      <td>sqFU1WIFbH_rrJJVHR4Z0g</td>\n",
       "      <td>5</td>\n",
       "      <td>2016-10-17</td>\n",
       "      <td>Good selection of produce at great prices. Gre...</td>\n",
       "      <td>1</td>\n",
       "      <td>0</td>\n",
       "      <td>0</td>\n",
       "    </tr>\n",
       "    <tr>\n",
       "      <th>149998</th>\n",
       "      <td>2349976</td>\n",
       "      <td>wGtYjLJL-O6TNA5EILPaLQ</td>\n",
       "      <td>4qyy_D9QSrRcGIrUekjXBw</td>\n",
       "      <td>75uWBy0mNnvSa6Wrrv7Xtg</td>\n",
       "      <td>5</td>\n",
       "      <td>2016-10-22</td>\n",
       "      <td>Absolutely no pressure!!  We needed a quick ea...</td>\n",
       "      <td>0</td>\n",
       "      <td>0</td>\n",
       "      <td>0</td>\n",
       "    </tr>\n",
       "    <tr>\n",
       "      <th>149999</th>\n",
       "      <td>3530027</td>\n",
       "      <td>fE8HfRljToAyU5MR6FgHAA</td>\n",
       "      <td>OnBjipZl9Dp-n96T2eK06Q</td>\n",
       "      <td>wWo-LilKT6gL0Ceqeweq8g</td>\n",
       "      <td>1</td>\n",
       "      <td>2015-02-15</td>\n",
       "      <td>Whoever hired the staff that was working Valen...</td>\n",
       "      <td>0</td>\n",
       "      <td>0</td>\n",
       "      <td>0</td>\n",
       "    </tr>\n",
       "  </tbody>\n",
       "</table>\n",
       "<p>150000 rows × 10 columns</p>\n",
       "</div>"
      ],
      "text/plain": [
       "        Unnamed: 0               review_id                 user_id  \\\n",
       "0           111089  S3r97tHMkzR4O-tiIIzwOQ  r0GLQAawvHXUd-xZow-fWQ   \n",
       "1           674606  lZTYcQXntUsLptcWCqyhmg  bDs5_ek9esUkgxFm1jFxfg   \n",
       "2          3329480  sStohXbOEdPyrutK3zJSmg  mus1d8cMxuEJmP0zfV19hg   \n",
       "3          3641542  Pvw7lbeyGGLVALvK0DwgDA  qrwH8z4nNUabqlsnwNoDCg   \n",
       "4          2054056  XWN8BVvLwcmgEW6xZuOKpg  cYvO88wNlRc_gd03caBZ7Q   \n",
       "...            ...                     ...                     ...   \n",
       "149995     4137925  -EfkdreWNtk2MsHYE-nv7Q  vRG_9sj-iFliiUKqZCVGRA   \n",
       "149996     2702734  VcLVmt3nMU4EW3D50SG2tA  NIeLhx7kQ7KROhH2zs5qYw   \n",
       "149997     4604320  D4EnQl1-Vgpfx0P-wxZM6w  RV0ljoUuwfkPYtzvT03W9g   \n",
       "149998     2349976  wGtYjLJL-O6TNA5EILPaLQ  4qyy_D9QSrRcGIrUekjXBw   \n",
       "149999     3530027  fE8HfRljToAyU5MR6FgHAA  OnBjipZl9Dp-n96T2eK06Q   \n",
       "\n",
       "                   business_id  stars        date  \\\n",
       "0       mzREMIknfmagJugibXrCsQ      4  2017-04-14   \n",
       "1       aZG9Hp8fdgzq37iuB1QTYg      1  2017-10-01   \n",
       "2       I4Nr-MVc26qWr08-S3Q1ow      4  2017-01-19   \n",
       "3       vAbRNF0hJt91oCUpm_sdKw      3  2014-01-09   \n",
       "4       sNVGdeOPeitJ3OWUQBINzQ      4  2012-02-29   \n",
       "...                        ...    ...         ...   \n",
       "149995  Rb2s2-2kIvbPXnPEuM_OBg      1  2015-06-13   \n",
       "149996  148d7J-cFejkhYV89y3Jsg      4  2010-11-28   \n",
       "149997  sqFU1WIFbH_rrJJVHR4Z0g      5  2016-10-17   \n",
       "149998  75uWBy0mNnvSa6Wrrv7Xtg      5  2016-10-22   \n",
       "149999  wWo-LilKT6gL0Ceqeweq8g      1  2015-02-15   \n",
       "\n",
       "                                                     text  useful  funny  cool  \n",
       "0       Food is tasty, it's usually busy, but there al...       0      0     0  \n",
       "1       Probably one of the worst experiences I've eve...       1      0     0  \n",
       "2       I was looking for a place to grab a quick bite...       0      0     0  \n",
       "3       Meh, fish was a bit rubbery for $34 swordfish....       1      0     0  \n",
       "4       I've heard so much about this place.. and I mu...       2      2     3  \n",
       "...                                                   ...     ...    ...   ...  \n",
       "149995  Never ever will I dine or drink in this place ...       0      0     0  \n",
       "149996  It's 3.5 stars for me this time since the ride...       2      0     0  \n",
       "149997  Good selection of produce at great prices. Gre...       1      0     0  \n",
       "149998  Absolutely no pressure!!  We needed a quick ea...       0      0     0  \n",
       "149999  Whoever hired the staff that was working Valen...       0      0     0  \n",
       "\n",
       "[150000 rows x 10 columns]"
      ]
     },
     "execution_count": 18,
     "metadata": {},
     "output_type": "execute_result"
    }
   ],
   "source": [
    "yelp"
   ]
  },
  {
   "cell_type": "code",
   "execution_count": 19,
   "metadata": {},
   "outputs": [],
   "source": [
    "def  clean_text(df, text_field, new_text_field_name):\n",
    "    df[new_text_field_name] = df[text_field].str.lower()\n",
    "    df[new_text_field_name] = df[new_text_field_name].apply(lambda elem: re.sub(r\"(@[A-Za-z0-9]+)|([^0-9A-Za-z \\t])|(\\w+:\\/\\/\\S+)|^rt|http.+?\", \"\", elem))  \n",
    "    df[new_text_field_name] = df[new_text_field_name].apply(lambda elem: re.sub(r\"\\d+\", \"\", elem))\n",
    "    return df\n",
    "\n",
    "yelp = clean_text(yelp, 'text', 'text_clean')"
   ]
  },
  {
   "cell_type": "code",
   "execution_count": 20,
   "metadata": {},
   "outputs": [],
   "source": [
    "yelp_basic = yelp[['stars', 'text_clean']]"
   ]
  },
  {
   "cell_type": "code",
   "execution_count": 21,
   "metadata": {
    "scrolled": false
   },
   "outputs": [
    {
     "data": {
      "text/plain": [
       "(150000, 2)"
      ]
     },
     "execution_count": 21,
     "metadata": {},
     "output_type": "execute_result"
    }
   ],
   "source": [
    "yelp_basic.shape"
   ]
  },
  {
   "cell_type": "code",
   "execution_count": 22,
   "metadata": {},
   "outputs": [],
   "source": [
    "yelp_features = yelp[['stars', 'text_clean', 'useful', 'funny', 'cool']]"
   ]
  },
  {
   "cell_type": "code",
   "execution_count": 23,
   "metadata": {
    "scrolled": true
   },
   "outputs": [],
   "source": [
    "df_train_raw, df_test = train_test_split(yelp_features, test_size=0.2, \n",
    "                                         random_state=42, shuffle=True)\n",
    "df_train_raw, df_dev = train_test_split(df_train_raw, test_size=0.2,\n",
    "                                        random_state=42, shuffle=True)\n",
    "\n",
    "df_train = df_train_raw"
   ]
  },
  {
   "cell_type": "code",
   "execution_count": 24,
   "metadata": {},
   "outputs": [],
   "source": [
    "def extract_features(df_train, df_dev, df_test):\n",
    "    vectorizer = TfidfVectorizer(analyzer='word', \n",
    "                               stop_words='english',\n",
    "                               ngram_range=(1, 2),\n",
    "                               lowercase=True,\n",
    "                               min_df=5,\n",
    "                               binary=False)\n",
    "    x_train = vectorizer.fit_transform(df_train.loc[:, 'text_clean'].values.astype('U'))\n",
    "    x_dev = vectorizer.transform(df_dev.loc[:, 'text_clean'].values.astype('U'))\n",
    "    x_test = vectorizer.transform(df_test.loc[:, 'text_clean'].values.astype('U'))\n",
    "    y_train = df_train.loc[:, 'stars'].tolist()\n",
    "    y_dev = df_dev.loc[:, 'stars'].tolist()\n",
    "    y_test = df_test.loc[:, 'stars'].tolist()\n",
    "    return x_train, x_dev, x_test, y_train, y_dev, y_test"
   ]
  },
  {
   "cell_type": "code",
   "execution_count": 25,
   "metadata": {},
   "outputs": [],
   "source": [
    "x_train, x_dev, x_test, y_train, y_dev, y_test = extract_features(df_train, df_dev, df_test)"
   ]
  },
  {
   "cell_type": "code",
   "execution_count": 26,
   "metadata": {},
   "outputs": [],
   "source": [
    "useful = df_train.loc[:, 'useful'].tolist()\n",
    "funny = df_train.loc[:, 'funny'].tolist()\n",
    "cool = df_train.loc[:, 'cool'].tolist()"
   ]
  },
  {
   "cell_type": "markdown",
   "metadata": {},
   "source": [
    "#### Assess Model Performance"
   ]
  },
  {
   "cell_type": "code",
   "execution_count": 27,
   "metadata": {},
   "outputs": [],
   "source": [
    "def evaluate_model_Xy(model, X, y, y_pred=None, label=\"Training\", model_name=\"model\"):\n",
    "    if y_pred is None:\n",
    "        y_pred = model.predict(X)\n",
    "\n",
    "    print(label + ' Set')\n",
    "    print(\"Accuracy:\", accuracy_score(y, y_pred))\n",
    "    print()\n",
    "\n",
    "    print(classification_report(y, y_pred, digits=4))\n",
    "\n",
    "    disp = plot_confusion_matrix(model, X, y, \n",
    "                               cmap=plt.cm.Blues, normalize='true')\n",
    "    plt.savefig(model_name + \"_\" + label.lower() + \".eps\")\n",
    "    plt.show()\n",
    "    print()"
   ]
  },
  {
   "cell_type": "code",
   "execution_count": 28,
   "metadata": {},
   "outputs": [],
   "source": [
    "def evaluate_model(model, model_name=\"model\",\n",
    "                   y_train_pred=None, y_dev_pred=None, y_test_pred=None):\n",
    "    evaluate_model_Xy(model, x_train, y_train, label=\"Training\", model_name=model_name)\n",
    "    evaluate_model_Xy(model, x_dev, y_dev, label=\"Validation\", model_name=model_name)\n",
    "    evaluate_model_Xy(model, x_test, y_test, label=\"Testing\", model_name=model_name)"
   ]
  },
  {
   "cell_type": "markdown",
   "metadata": {},
   "source": [
    "#### Naive Bayes"
   ]
  },
  {
   "cell_type": "code",
   "execution_count": 29,
   "metadata": {
    "scrolled": true
   },
   "outputs": [
    {
     "data": {
      "text/plain": [
       "MultinomialNB(alpha=0.5)"
      ]
     },
     "execution_count": 29,
     "metadata": {},
     "output_type": "execute_result"
    }
   ],
   "source": [
    "clf_nb = MultinomialNB(alpha=0.5,\n",
    "                       fit_prior=True)\n",
    "clf_nb.fit(x_train, y_train)\n"
   ]
  },
  {
   "cell_type": "code",
   "execution_count": 30,
   "metadata": {
    "scrolled": true
   },
   "outputs": [
    {
     "name": "stdout",
     "output_type": "stream",
     "text": [
      "Training Set\n",
      "Accuracy: 0.7736458333333334\n",
      "\n",
      "              precision    recall  f1-score   support\n",
      "\n",
      "           1     0.7202    0.8051    0.7603     19222\n",
      "           2     0.7490    0.7084    0.7281     19184\n",
      "           3     0.8019    0.7625    0.7817     19146\n",
      "           4     0.7465    0.8270    0.7847     19259\n",
      "           5     0.8724    0.7650    0.8152     19189\n",
      "\n",
      "    accuracy                         0.7736     96000\n",
      "   macro avg     0.7780    0.7736    0.7740     96000\n",
      "weighted avg     0.7779    0.7736    0.7740     96000\n",
      "\n"
     ]
    },
    {
     "name": "stderr",
     "output_type": "stream",
     "text": [
      "C:\\Users\\owltu\\Anaconda3\\lib\\site-packages\\sklearn\\utils\\deprecation.py:87: FutureWarning: Function plot_confusion_matrix is deprecated; Function `plot_confusion_matrix` is deprecated in 1.0 and will be removed in 1.2. Use one of the class methods: ConfusionMatrixDisplay.from_predictions or ConfusionMatrixDisplay.from_estimator.\n",
      "  warnings.warn(msg, category=FutureWarning)\n"
     ]
    },
    {
     "data": {
      "image/png": "[encoded data removed]",
      "text/plain": [
       "<Figure size 432x288 with 2 Axes>"
      ]
     },
     "metadata": {
      "needs_background": "light"
     },
     "output_type": "display_data"
    },
    {
     "name": "stdout",
     "output_type": "stream",
     "text": [
      "\n",
      "Validation Set\n",
      "Accuracy: 0.549625\n",
      "\n",
      "              precision    recall  f1-score   support\n",
      "\n",
      "           1     0.6220    0.6988    0.6582      4867\n",
      "           2     0.4694    0.4373    0.4527      4782\n",
      "           3     0.4689    0.4516    0.4601      4867\n",
      "           4     0.4832    0.5764    0.5257      4724\n",
      "           5     0.7400    0.5836    0.6526      4760\n",
      "\n",
      "    accuracy                         0.5496     24000\n",
      "   macro avg     0.5567    0.5495    0.5499     24000\n",
      "weighted avg     0.5566    0.5496    0.5499     24000\n",
      "\n"
     ]
    },
    {
     "name": "stderr",
     "output_type": "stream",
     "text": [
      "C:\\Users\\owltu\\Anaconda3\\lib\\site-packages\\sklearn\\utils\\deprecation.py:87: FutureWarning: Function plot_confusion_matrix is deprecated; Function `plot_confusion_matrix` is deprecated in 1.0 and will be removed in 1.2. Use one of the class methods: ConfusionMatrixDisplay.from_predictions or ConfusionMatrixDisplay.from_estimator.\n",
      "  warnings.warn(msg, category=FutureWarning)\n"
     ]
    },
    {
     "data": {
      "image/png": "[encoded data removed]",
      "text/plain": [
       "<Figure size 432x288 with 2 Axes>"
      ]
     },
     "metadata": {
      "needs_background": "light"
     },
     "output_type": "display_data"
    },
    {
     "name": "stdout",
     "output_type": "stream",
     "text": [
      "\n",
      "Testing Set\n",
      "Accuracy: 0.5472\n",
      "\n",
      "              precision    recall  f1-score   support\n",
      "\n",
      "           1     0.6136    0.7037    0.6556      5883\n",
      "           2     0.4807    0.4358    0.4572      6048\n",
      "           3     0.4636    0.4500    0.4567      6009\n",
      "           4     0.4825    0.5826    0.5278      6018\n",
      "           5     0.7346    0.5677    0.6405      6042\n",
      "\n",
      "    accuracy                         0.5472     30000\n",
      "   macro avg     0.5550    0.5480    0.5475     30000\n",
      "weighted avg     0.5548    0.5472    0.5471     30000\n",
      "\n"
     ]
    },
    {
     "name": "stderr",
     "output_type": "stream",
     "text": [
      "C:\\Users\\owltu\\Anaconda3\\lib\\site-packages\\sklearn\\utils\\deprecation.py:87: FutureWarning: Function plot_confusion_matrix is deprecated; Function `plot_confusion_matrix` is deprecated in 1.0 and will be removed in 1.2. Use one of the class methods: ConfusionMatrixDisplay.from_predictions or ConfusionMatrixDisplay.from_estimator.\n",
      "  warnings.warn(msg, category=FutureWarning)\n"
     ]
    },
    {
     "data": {
      "image/png": "[encoded data removed]",
      "text/plain": [
       "<Figure size 432x288 with 2 Axes>"
      ]
     },
     "metadata": {
      "needs_background": "light"
     },
     "output_type": "display_data"
    },
    {
     "name": "stdout",
     "output_type": "stream",
     "text": [
      "\n"
     ]
    }
   ],
   "source": [
    "evaluate_model(clf_nb, model_name=\"nb\")"
   ]
  },
  {
   "cell_type": "markdown",
   "metadata": {},
   "source": [
    "#### SVM"
   ]
  },
  {
   "cell_type": "code",
   "execution_count": 41,
   "metadata": {
    "scrolled": true
   },
   "outputs": [],
   "source": [
    "clf_sgd = make_pipeline(StandardScaler(with_mean=False),\n",
    "                        SGDClassifier(loss='hinge',\n",
    "                                      penalty='l2',\n",
    "                                      alpha=30,\n",
    "                                      max_iter=1000, \n",
    "                                      tol=1e-3,\n",
    "                                      shuffle=True,\n",
    "                                      verbose=1,\n",
    "                                      n_jobs=-1,\n",
    "                                      random_state=0,\n",
    "                                      learning_rate='optimal',\n",
    "                                      early_stopping=True,\n",
    "                                      class_weight='balanced'))"
   ]
  },
  {
   "cell_type": "code",
   "execution_count": 42,
   "metadata": {},
   "outputs": [
    {
     "name": "stderr",
     "output_type": "stream",
     "text": [
      "[Parallel(n_jobs=-1)]: Using backend ThreadingBackend with 8 concurrent workers.\n"
     ]
    },
    {
     "name": "stdout",
     "output_type": "stream",
     "text": [
      "-- Epoch 1\n",
      "-- Epoch 1\n",
      "-- Epoch 1\n",
      "-- Epoch 1\n",
      "-- Epoch 1\n",
      "Norm: 0.11, NNZs: 163998, Bias: -0.006264, T: 86400, Avg. loss: 0.461948\n",
      "Total training time: 0.06 seconds.\n",
      "Norm: 0.11, NNZs: 164962, Bias: -0.005723, T: 86400, Avg. loss: 0.529879\n",
      "Total training time: 0.06 seconds.\n",
      "Norm: 0.11, NNZs: 165174, Bias: -0.005459, T: 86400, Avg. loss: 0.528260\n",
      "Total training time: 0.05 seconds.\n",
      "Norm: 0.11, NNZs: 164700, Bias: -0.006037, T: 86400, Avg. loss: 0.472364\n",
      "Total training time: 0.07 seconds.\n",
      "Norm: 0.11, NNZs: 164543, Bias: -0.005905, T: 86400, Avg. loss: 0.517484\n",
      "Total training time: 0.06 seconds.\n",
      "-- Epoch 2\n",
      "-- Epoch 2\n",
      "-- Epoch 2\n",
      "-- Epoch 2\n",
      "-- Epoch 2\n",
      "Norm: 0.11, NNZs: 164418, Bias: -0.006360, T: 172800, Avg. loss: 0.433614\n",
      "Total training time: 0.17 seconds.\n",
      "Norm: 0.11, NNZs: 165088, Bias: -0.005834, T: 172800, Avg. loss: 0.496397\n",
      "Total training time: 0.17 seconds.\n",
      "Norm: 0.11, NNZs: 164813, Bias: -0.006010, T: 172800, Avg. loss: 0.485552\n",
      "Total training time: 0.16 seconds.\n",
      "Norm: 0.11, NNZs: 164919, Bias: -0.006140, T: 172800, Avg. loss: 0.440730\n",
      "Total training time: 0.18 seconds.\n",
      "Norm: 0.11, NNZs: 165262, Bias: -0.005570, T: 172800, Avg. loss: 0.494479\n",
      "Total training time: 0.19 seconds.\n",
      "-- Epoch 3\n",
      "-- Epoch 3\n",
      "-- Epoch 3\n",
      "-- Epoch 3\n",
      "-- Epoch 3\n",
      "Norm: 0.11, NNZs: 165116, Bias: -0.005898, T: 259200, Avg. loss: 0.491507\n",
      "Total training time: 0.29 seconds.\n",
      "Norm: 0.11, NNZs: 164846, Bias: -0.006071, T: 259200, Avg. loss: 0.480892\n",
      "Total training time: 0.28 seconds.\n",
      "Norm: 0.11, NNZs: 164473, Bias: -0.006417, T: 259200, Avg. loss: 0.429445\n",
      "Total training time: 0.30 seconds.\n",
      "Norm: 0.11, NNZs: 164951, Bias: -0.006202, T: 259200, Avg. loss: 0.436144\n",
      "Total training time: 0.30 seconds.\n",
      "Norm: 0.11, NNZs: 165275, Bias: -0.005635, T: 259200, Avg. loss: 0.489535\n",
      "Total training time: 0.30 seconds.\n",
      "-- Epoch 4\n",
      "-- Epoch 4\n",
      "-- Epoch 4\n",
      "-- Epoch 4\n",
      "-- Epoch 4\n",
      "Norm: 0.11, NNZs: 164858, Bias: -0.006115, T: 345600, Avg. loss: 0.478496\n",
      "Total training time: 0.37 seconds.\n",
      "Norm: 0.11, NNZs: 165120, Bias: -0.005944, T: 345600, Avg. loss: 0.489203\n",
      "Total training time: 0.37 seconds.\n",
      "Norm: 0.11, NNZs: 164488, Bias: -0.006458, T: 345600, Avg. loss: 0.427367\n",
      "Total training time: 0.39 seconds.\n",
      "Norm: 0.11, NNZs: 165278, Bias: -0.005682, T: 345600, Avg. loss: 0.487235\n",
      "Norm: 0.11, NNZs: 164961, Bias: -0.006245, T: 345600, Avg. loss: 0.434039Total training time: 0.38 seconds.\n",
      "\n",
      "Total training time: 0.39 seconds.\n",
      "-- Epoch 5\n",
      "-- Epoch 5\n",
      "-- Epoch 5\n",
      "-- Epoch 5-- Epoch 5\n",
      "\n",
      "Norm: 0.11, NNZs: 165121, Bias: -0.005980, T: 432000, Avg. loss: 0.487649\n",
      "Total training time: 0.47 seconds.\n",
      "Norm: 0.11, NNZs: 164860, Bias: -0.006149, T: 432000, Avg. loss: 0.477215\n",
      "Total training time: 0.47 seconds.\n",
      "Norm: 0.11, NNZs: 165281, Bias: -0.005718, T: 432000, Avg. loss: 0.485883\n",
      "Total training time: 0.48 seconds.\n",
      "Norm: 0.11, NNZs: 164497, Bias: -0.006489, T: 432000, Avg. loss: 0.426191\n",
      "Total training time: 0.49 seconds.\n",
      "Norm: 0.11, NNZs: 164965, Bias: -0.006279, T: 432000, Avg. loss: 0.432733\n",
      "Total training time: 0.49 seconds.\n",
      "-- Epoch 6\n",
      "-- Epoch 6\n",
      "-- Epoch 6\n",
      "-- Epoch 6\n",
      "-- Epoch 6\n",
      "Norm: 0.11, NNZs: 164862, Bias: -0.006177, T: 518400, Avg. loss: 0.476455\n",
      "Total training time: 0.56 seconds.\n",
      "Norm: 0.11, NNZs: 165121, Bias: -0.006009, T: 518400, Avg. loss: 0.486727\n",
      "Total training time: 0.57 seconds.\n",
      "Norm: 0.11, NNZs: 165283, Bias: -0.005747, T: 518400, Avg. loss: 0.484965\n",
      "Total training time: 0.56 seconds.\n",
      "Norm: 0.11, NNZs: 164968, Bias: -0.006306, T: 518400, Avg. loss: 0.431854\n",
      "Total training time: 0.57 seconds.\n",
      "Norm: 0.11, NNZs: 164504, Bias: -0.006515, T: 518400, Avg. loss: 0.425445\n",
      "Total training time: 0.59 seconds.\n",
      "Convergence after 6 epochs took 0.59 seconds\n",
      "Convergence after 6 epochs took 0.60 seconds\n",
      "Convergence after 6 epochs took 0.61 seconds\n",
      "Convergence after 6 epochs took 0.62 secondsConvergence after 6 epochs took 0.63 seconds\n",
      "\n"
     ]
    },
    {
     "name": "stderr",
     "output_type": "stream",
     "text": [
      "[Parallel(n_jobs=-1)]: Done   2 out of   5 | elapsed:    0.5s remaining:    0.9s\n",
      "[Parallel(n_jobs=-1)]: Done   5 out of   5 | elapsed:    0.6s finished\n"
     ]
    },
    {
     "data": {
      "text/plain": [
       "Pipeline(steps=[('standardscaler', StandardScaler(with_mean=False)),\n",
       "                ('sgdclassifier',\n",
       "                 SGDClassifier(alpha=30, class_weight='balanced',\n",
       "                               early_stopping=True, n_jobs=-1, random_state=0,\n",
       "                               verbose=1))])"
      ]
     },
     "execution_count": 42,
     "metadata": {},
     "output_type": "execute_result"
    }
   ],
   "source": [
    "clf_sgd.fit(x_train, y_train)"
   ]
  },
  {
   "cell_type": "code",
   "execution_count": 43,
   "metadata": {},
   "outputs": [
    {
     "name": "stdout",
     "output_type": "stream",
     "text": [
      "Training Set\n",
      "Accuracy: 0.8271458333333334\n",
      "\n",
      "              precision    recall  f1-score   support\n",
      "\n",
      "           1     0.7236    0.9351    0.8159     19222\n",
      "           2     0.8801    0.7144    0.7886     19184\n",
      "           3     0.8917    0.7574    0.8191     19146\n",
      "           4     0.8349    0.8270    0.8309     19259\n",
      "           5     0.8543    0.9015    0.8772     19189\n",
      "\n",
      "    accuracy                         0.8271     96000\n",
      "   macro avg     0.8369    0.8271    0.8264     96000\n",
      "weighted avg     0.8368    0.8271    0.8264     96000\n",
      "\n"
     ]
    },
    {
     "name": "stderr",
     "output_type": "stream",
     "text": [
      "C:\\Users\\owltu\\Anaconda3\\lib\\site-packages\\sklearn\\utils\\deprecation.py:87: FutureWarning: Function plot_confusion_matrix is deprecated; Function `plot_confusion_matrix` is deprecated in 1.0 and will be removed in 1.2. Use one of the class methods: ConfusionMatrixDisplay.from_predictions or ConfusionMatrixDisplay.from_estimator.\n",
      "  warnings.warn(msg, category=FutureWarning)\n"
     ]
    },
    {
     "data": {
      "image/png": "[encoded data removed]",
      "text/plain": [
       "<Figure size 432x288 with 2 Axes>"
      ]
     },
     "metadata": {
      "needs_background": "light"
     },
     "output_type": "display_data"
    },
    {
     "name": "stdout",
     "output_type": "stream",
     "text": [
      "\n",
      "Validation Set\n",
      "Accuracy: 0.536375\n",
      "\n",
      "              precision    recall  f1-score   support\n",
      "\n",
      "           1     0.5613    0.8050    0.6614      4867\n",
      "           2     0.4818    0.3453    0.4022      4782\n",
      "           3     0.4730    0.3403    0.3958      4867\n",
      "           4     0.4676    0.5040    0.4851      4724\n",
      "           5     0.6534    0.6863    0.6695      4760\n",
      "\n",
      "    accuracy                         0.5364     24000\n",
      "   macro avg     0.5274    0.5362    0.5228     24000\n",
      "weighted avg     0.5274    0.5364    0.5228     24000\n",
      "\n"
     ]
    },
    {
     "name": "stderr",
     "output_type": "stream",
     "text": [
      "C:\\Users\\owltu\\Anaconda3\\lib\\site-packages\\sklearn\\utils\\deprecation.py:87: FutureWarning: Function plot_confusion_matrix is deprecated; Function `plot_confusion_matrix` is deprecated in 1.0 and will be removed in 1.2. Use one of the class methods: ConfusionMatrixDisplay.from_predictions or ConfusionMatrixDisplay.from_estimator.\n",
      "  warnings.warn(msg, category=FutureWarning)\n"
     ]
    },
    {
     "data": {
      "image/png": "[encoded data removed]",
      "text/plain": [
       "<Figure size 432x288 with 2 Axes>"
      ]
     },
     "metadata": {
      "needs_background": "light"
     },
     "output_type": "display_data"
    },
    {
     "name": "stdout",
     "output_type": "stream",
     "text": [
      "\n",
      "Testing Set\n",
      "Accuracy: 0.5388333333333334\n",
      "\n",
      "              precision    recall  f1-score   support\n",
      "\n",
      "           1     0.5593    0.8171    0.6640      5883\n",
      "           2     0.5042    0.3532    0.4154      6048\n",
      "           3     0.4760    0.3438    0.3993      6009\n",
      "           4     0.4690    0.5096    0.4885      6018\n",
      "           5     0.6501    0.6768    0.6632      6042\n",
      "\n",
      "    accuracy                         0.5388     30000\n",
      "   macro avg     0.5317    0.5401    0.5261     30000\n",
      "weighted avg     0.5317    0.5388    0.5255     30000\n",
      "\n"
     ]
    },
    {
     "name": "stderr",
     "output_type": "stream",
     "text": [
      "C:\\Users\\owltu\\Anaconda3\\lib\\site-packages\\sklearn\\utils\\deprecation.py:87: FutureWarning: Function plot_confusion_matrix is deprecated; Function `plot_confusion_matrix` is deprecated in 1.0 and will be removed in 1.2. Use one of the class methods: ConfusionMatrixDisplay.from_predictions or ConfusionMatrixDisplay.from_estimator.\n",
      "  warnings.warn(msg, category=FutureWarning)\n"
     ]
    },
    {
     "data": {
      "image/png": "[encoded data removed]",
      "text/plain": [
       "<Figure size 432x288 with 2 Axes>"
      ]
     },
     "metadata": {
      "needs_background": "light"
     },
     "output_type": "display_data"
    },
    {
     "name": "stdout",
     "output_type": "stream",
     "text": [
      "\n"
     ]
    }
   ],
   "source": [
    "evaluate_model(clf_sgd, model_name=\"sgd\")"
   ]
  },
  {
   "cell_type": "code",
   "execution_count": null,
   "metadata": {},
   "outputs": [],
   "source": []
  }
 ],
 "metadata": {
  "kernelspec": {
   "display_name": "Python 3",
   "language": "python",
   "name": "python3"
  },
  "language_info": {
   "codemirror_mode": {
    "name": "ipython",
    "version": 3
   },
   "file_extension": ".py",
   "mimetype": "text/x-python",
   "name": "python",
   "nbconvert_exporter": "python",
   "pygments_lexer": "ipython3",
   "version": "3.7.3"
  }
 },
 "nbformat": 4,
 "nbformat_minor": 2
}
