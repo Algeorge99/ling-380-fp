{
 "cells": [
  {
   "cell_type": "code",
   "execution_count": 1,
   "metadata": {
    "scrolled": true
   },
   "outputs": [
    {
     "name": "stderr",
     "output_type": "stream",
     "text": [
      "C:\\Users\\owltu\\Anaconda3\\lib\\site-packages\\pandas\\compat\\_optional.py:138: UserWarning: Pandas requires version '2.7.0' or newer of 'numexpr' (version '2.6.9' currently installed).\n",
      "  warnings.warn(msg, UserWarning)\n",
      "C:\\Users\\owltu\\Anaconda3\\lib\\site-packages\\statsmodels\\tools\\_testing.py:19: FutureWarning: pandas.util.testing is deprecated. Use the functions in the public API at pandas.testing instead.\n",
      "  import pandas.util.testing as tm\n"
     ]
    }
   ],
   "source": [
    "import pandas as pd\n",
    "import numpy as np\n",
    "import re\n",
    "from pathlib import Path\n",
    "import json\n",
    "import seaborn as sns\n",
    "from collections import Counter\n",
    "import nltk\n",
    "import scipy\n",
    "import sklearn\n",
    "from sklearn.model_selection import train_test_split\n",
    "from sklearn.feature_extraction.text import CountVectorizer, TfidfVectorizer\n",
    "from sklearn.naive_bayes import MultinomialNB"
   ]
  },
  {
   "cell_type": "code",
   "execution_count": 2,
   "metadata": {},
   "outputs": [],
   "source": [
    "from sklearn.metrics import accuracy_score, precision_score, recall_score\n",
    "from sklearn.metrics import f1_score, mean_squared_error\n",
    "from sklearn.metrics import classification_report\n",
    "from sklearn.metrics import confusion_matrix"
   ]
  },
  {
   "cell_type": "code",
   "execution_count": 3,
   "metadata": {},
   "outputs": [],
   "source": [
    "import matplotlib.pyplot as plt\n",
    "from sklearn.metrics import plot_confusion_matrix"
   ]
  },
  {
   "cell_type": "code",
   "execution_count": 4,
   "metadata": {},
   "outputs": [],
   "source": [
    "yelp = pd.read_csv(\"yelp_clean.csv\")"
   ]
  },
  {
   "cell_type": "code",
   "execution_count": 6,
   "metadata": {},
   "outputs": [],
   "source": [
    "yelp_basic = yelp[['stars', 'text_clean']]"
   ]
  },
  {
   "cell_type": "code",
   "execution_count": 7,
   "metadata": {
    "scrolled": false
   },
   "outputs": [
    {
     "data": {
      "text/plain": [
       "(65724, 2)"
      ]
     },
     "execution_count": 7,
     "metadata": {},
     "output_type": "execute_result"
    }
   ],
   "source": [
    "yelp_basic.shape"
   ]
  },
  {
   "cell_type": "code",
   "execution_count": 8,
   "metadata": {},
   "outputs": [],
   "source": [
    "yelp_features = yelp[['stars', 'text_clean', 'useful', 'funny', 'cool']]"
   ]
  },
  {
   "cell_type": "code",
   "execution_count": 10,
   "metadata": {
    "scrolled": true
   },
   "outputs": [],
   "source": [
    "df_train_raw, df_test = train_test_split(yelp_features, test_size=0.2, \n",
    "                                         random_state=42, shuffle=True)\n",
    "df_train_raw, df_dev = train_test_split(df_train_raw, test_size=0.2,\n",
    "                                        random_state=42, shuffle=True)\n",
    "\n",
    "df_train = df_train_raw"
   ]
  },
  {
   "cell_type": "code",
   "execution_count": 14,
   "metadata": {},
   "outputs": [],
   "source": [
    "def extract_features(df_train, df_dev, df_test):\n",
    "    vectorizer = TfidfVectorizer(analyzer='word', \n",
    "                               stop_words='english',\n",
    "                               ngram_range=(1, 2),\n",
    "                               lowercase=True,\n",
    "                               min_df=5,\n",
    "                               binary=False)\n",
    "    x_train = vectorizer.fit_transform(df_train.loc[:, 'text_clean'].values.astype('U'))\n",
    "    x_dev = vectorizer.transform(df_dev.loc[:, 'text_clean'].values.astype('U'))\n",
    "    x_test = vectorizer.transform(df_test.loc[:, 'text_clean'].values.astype('U'))\n",
    "    y_train = df_train.loc[:, 'stars'].tolist()\n",
    "    y_dev = df_dev.loc[:, 'stars'].tolist()\n",
    "    y_test = df_test.loc[:, 'stars'].tolist()\n",
    "    return x_train, x_dev, x_test, y_train, y_dev, y_test"
   ]
  },
  {
   "cell_type": "code",
   "execution_count": 15,
   "metadata": {},
   "outputs": [],
   "source": [
    "x_train, x_dev, x_test, y_train, y_dev, y_test = extract_features(df_train, df_dev, df_test)"
   ]
  },
  {
   "cell_type": "code",
   "execution_count": 17,
   "metadata": {},
   "outputs": [],
   "source": [
    "useful = df_train.loc[:, 'useful'].tolist()\n",
    "funny = df_train.loc[:, 'funny'].tolist()\n",
    "cool = df_train.loc[:, 'cool'].tolist()"
   ]
  },
  {
   "cell_type": "markdown",
   "metadata": {},
   "source": [
    "#### Assess Model Performance"
   ]
  },
  {
   "cell_type": "code",
   "execution_count": null,
   "metadata": {},
   "outputs": [],
   "source": [
    "def evaluate_model_Xy(model, X, y, y_pred=None, label=\"Training\", model_name=\"model\"):\n",
    "    if y_pred is None:\n",
    "        y_pred = model.predict(X)\n",
    "\n",
    "    print(label + ' Set')\n",
    "    print(\"Accuracy:\", accuracy_score(y, y_pred))\n",
    "    print()\n",
    "\n",
    "    print(classification_report(y, y_pred, digits=4))\n",
    "\n",
    "    disp = plot_confusion_matrix(model, X, y, \n",
    "                               cmap=plt.cm.Blues, normalize='true')\n",
    "    plt.savefig(model_name + \"_\" + label.lower() + \".eps\")\n",
    "    plt.show()\n",
    "    print()"
   ]
  },
  {
   "cell_type": "code",
   "execution_count": null,
   "metadata": {},
   "outputs": [],
   "source": [
    "def evaluate_model(model, model_name=\"model\",\n",
    "                   y_train_pred=None, y_dev_pred=None, y_test_pred=None):\n",
    "    evaluate_model_Xy(model, x_train, y_train, label=\"Training\", model_name=model_name)\n",
    "    evaluate_model_Xy(model, x_dev, y_dev, label=\"Validation\", model_name=model_name)\n",
    "    evaluate_model_Xy(model, x_test, y_test, label=\"Testing\", model_name=model_name)"
   ]
  },
  {
   "cell_type": "markdown",
   "metadata": {},
   "source": [
    "#### Naive Bayes"
   ]
  },
  {
   "cell_type": "code",
   "execution_count": null,
   "metadata": {
    "scrolled": true
   },
   "outputs": [],
   "source": [
    "clf_nb = MultinomialNB(alpha=0.5,\n",
    "                       fit_prior=True)\n",
    "clf_nb.fit(x_train, y_train)\n"
   ]
  },
  {
   "cell_type": "code",
   "execution_count": null,
   "metadata": {
    "scrolled": true
   },
   "outputs": [],
   "source": [
    "evaluate_model(clf_nb, model_name=\"nb\")"
   ]
  },
  {
   "cell_type": "markdown",
   "metadata": {},
   "source": [
    "#### SVM"
   ]
  },
  {
   "cell_type": "code",
   "execution_count": null,
   "metadata": {},
   "outputs": [],
   "source": [
    "clf_sgd = make_pipeline(StandardScaler(with_mean=False),\n",
    "                        SGDClassifier(loss='hinge',\n",
    "                                      penalty='l2',\n",
    "                                      alpha=30,\n",
    "                                      max_iter=1000, \n",
    "                                      tol=1e-3,\n",
    "                                      shuffle=True,\n",
    "                                      verbose=1,\n",
    "                                      n_jobs=-1,\n",
    "                                      random_state=0,\n",
    "                                      learning_rate='optimal',\n",
    "                                      early_stopping=True,\n",
    "                                      class_weight='balanced'))"
   ]
  },
  {
   "cell_type": "code",
   "execution_count": null,
   "metadata": {},
   "outputs": [],
   "source": [
    "clf_sgd.fit(x_train, y_train)"
   ]
  },
  {
   "cell_type": "code",
   "execution_count": null,
   "metadata": {},
   "outputs": [],
   "source": [
    "evaluate_model(clf_sgd, model_name=\"sgd\")"
   ]
  }
 ],
 "metadata": {
  "kernelspec": {
   "display_name": "Python 3",
   "language": "python",
   "name": "python3"
  },
  "language_info": {
   "codemirror_mode": {
    "name": "ipython",
    "version": 3
   },
   "file_extension": ".py",
   "mimetype": "text/x-python",
   "name": "python",
   "nbconvert_exporter": "python",
   "pygments_lexer": "ipython3",
   "version": "3.7.3"
  }
 },
 "nbformat": 4,
 "nbformat_minor": 2
}
