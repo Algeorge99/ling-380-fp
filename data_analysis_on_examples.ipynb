{
  "nbformat": 4,
  "nbformat_minor": 0,
  "metadata": {
    "colab": {
      "name": "data_analysis_on_examples.ipynb",
      "provenance": []
    },
    "kernelspec": {
      "name": "python3",
      "display_name": "Python 3"
    },
    "language_info": {
      "name": "python"
    }
  },
  "cells": [
    {
      "cell_type": "code",
      "execution_count": 1,
      "metadata": {
        "id": "FFcjy4ewD2GJ"
      },
      "outputs": [],
      "source": [
        "#Import Packages\n",
        "import numpy as np\n",
        "import pandas as pd\n",
        "import matplotlib.pyplot as plt\n",
        "from sklearn.metrics import confusion_matrix\n",
        "import itertools\n",
        "import seaborn"
      ]
    },
    {
      "cell_type": "code",
      "source": [
        "#Import .csvs\n",
        "figurative = pd.read_csv(\"model_comparison - FIGURATIVE.csv\")\n",
        "contradictory = pd.read_csv(\"model_comparison - CONTRADICTORY.csv\")\n",
        "qualifier = pd.read_csv(\"model_comparison - QUALIFIERS.csv\")"
      ],
      "metadata": {
        "id": "nY_zzgV1EgLO"
      },
      "execution_count": 2,
      "outputs": []
    },
    {
      "cell_type": "code",
      "execution_count": 3,
      "metadata": {
        "id": "hNb3oCsHJPUF"
      },
      "outputs": [],
      "source": [
        "# Confusion Matrix function again\n",
        "def plot_confusion_matrix(cm, classes,\n",
        "                          normalize=False,\n",
        "                          title='Confusion matrix',\n",
        "                          cmap=plt.cm.Greens):\n",
        "    plt.imshow(cm, interpolation='nearest', cmap=cmap)\n",
        "    plt.title(title)\n",
        "    plt.colorbar()\n",
        "    tick_marks = np.arange(len(classes))\n",
        "    plt.xticks(tick_marks, classes, rotation=45)\n",
        "    plt.yticks(tick_marks, classes)\n",
        "\n",
        "    if normalize:\n",
        "        cm = cm.astype('float') / cm.sum(axis=1)[:, np.newaxis]\n",
        "\n",
        "    thresh = cm.max() / 2.\n",
        "    for i, j in itertools.product(range(cm.shape[0]), range(cm.shape[1])):\n",
        "        plt.text(j, i, cm[i, j],\n",
        "                 horizontalalignment=\"center\",\n",
        "                 color=\"white\" if cm[i, j] > thresh else \"black\")\n",
        "\n",
        "    plt.ylabel('True label')\n",
        "    plt.xlabel('Predicted label')"
      ]
    },
    {
      "cell_type": "code",
      "execution_count": 18,
      "metadata": {
        "id": "uyCCUCupJUS0",
        "colab": {
          "base_uri": "https://localhost:8080/",
          "height": 297
        },
        "outputId": "47167009-4b99-4b56-804a-7b2c25e33f80"
      },
      "outputs": [
        {
          "output_type": "display_data",
          "data": {
            "image/png": "[encoded data removed]",
            "text/plain": [
              "<Figure size 432x288 with 2 Axes>"
            ]
          },
          "metadata": {
            "needs_background": "light"
          }
        }
      ],
      "source": [
        "# Compute (replace with any two to compare)\n",
        "confusion_mtx = confusion_matrix(contradictory['BERT_pred'], contradictory['Bayes_pred']) \n",
        "\n",
        "# Plot \n",
        "plot_confusion_matrix(confusion_mtx, classes = range(1,6))\n",
        "plt.show()"
      ]
    },
    {
      "cell_type": "code",
      "source": [
        "# Comparing the Models \n",
        "\n",
        "print(sum(contradictory['SVM_pred'] == contradictory['BERT_pred'])/len(contradictory['SVM_pred']))\n",
        "print(sum(contradictory['SVM_pred'] == contradictory['Bayes_pred'])/len(contradictory['SVM_pred']))\n",
        "print(sum(contradictory['BERT_pred'] == contradictory['Bayes_pred'])/len(contradictory['SVM_pred']))\n",
        "print(sum(figurative['SVM_pred'] == figurative['BERT_pred'])/len(figurative['SVM_pred']))\n",
        "print(sum(figurative['SVM_pred'] == figurative['Bayes_pred'])/len(figurative['SVM_pred']))\n",
        "print(sum(figurative['BERT_pred'] == figurative['Bayes_pred'])/len(figurative['SVM_pred']))\n",
        "print(sum(qualifier['SVM_pred'] == qualifier['BERT_pred'])/len(qualifier['SVM_pred']))\n",
        "print(sum(qualifier['SVM_pred'] == qualifier['Bayes_pred'])/len(qualifier['SVM_pred']))\n",
        "print(sum(qualifier['BERT_pred'] == qualifier['Bayes_pred'])/len(qualifier['SVM_pred']))"
      ],
      "metadata": {
        "colab": {
          "base_uri": "https://localhost:8080/"
        },
        "id": "e8nfMnAhLX0Y",
        "outputId": "bfbb268f-090f-4638-d1a0-95eea7f7f5a5"
      },
      "execution_count": 5,
      "outputs": [
        {
          "output_type": "stream",
          "name": "stdout",
          "text": [
            "0.3786407766990291\n",
            "0.6504854368932039\n",
            "0.44660194174757284\n",
            "0.5\n",
            "0.7407407407407407\n",
            "0.5\n",
            "0.40540540540540543\n",
            "0.6486486486486487\n",
            "0.6216216216216216\n"
          ]
        }
      ]
    },
    {
      "cell_type": "code",
      "source": [
        "# Scatterplot (replace with any two to compare) \n",
        "plt.scatter(qualifier['SVM_pred'], qualifier['stars'])\n",
        "plt.show()"
      ],
      "metadata": {
        "colab": {
          "base_uri": "https://localhost:8080/",
          "height": 265
        },
        "id": "Rgfdot9bNGtr",
        "outputId": "4ad20b0f-841b-4ad2-a3dd-2680bb69e1c6"
      },
      "execution_count": 6,
      "outputs": [
        {
          "output_type": "display_data",
          "data": {
            "image/png": "[encoded data removed]",
            "text/plain": [
              "<Figure size 432x288 with 1 Axes>"
            ]
          },
          "metadata": {
            "needs_background": "light"
          }
        }
      ]
    },
    {
      "cell_type": "code",
      "source": [
        "# Jittered/Swarmed plot (replace with any two to compare)\n",
        "seaborn.swarmplot(qualifier['SVM_pred'], qualifier['stars'])"
      ],
      "metadata": {
        "colab": {
          "base_uri": "https://localhost:8080/",
          "height": 352
        },
        "id": "uJtgnLAfFQPC",
        "outputId": "8f0da4f3-c200-4bbf-9121-dd5c7ab12fd8"
      },
      "execution_count": 8,
      "outputs": [
        {
          "output_type": "stream",
          "name": "stderr",
          "text": [
            "/usr/local/lib/python3.7/dist-packages/seaborn/_decorators.py:43: FutureWarning: Pass the following variables as keyword args: x, y. From version 0.12, the only valid positional argument will be `data`, and passing other arguments without an explicit keyword will result in an error or misinterpretation.\n",
            "  FutureWarning\n"
          ]
        },
        {
          "output_type": "execute_result",
          "data": {
            "text/plain": [
              "<matplotlib.axes._subplots.AxesSubplot at 0x7f4191e2b410>"
            ]
          },
          "metadata": {},
          "execution_count": 8
        },
        {
          "output_type": "display_data",
          "data": {
            "image/png": "[encoded data removed]",
            "text/plain": [
              "<Figure size 432x288 with 1 Axes>"
            ]
          },
          "metadata": {
            "needs_background": "light"
          }
        }
      ]
    },
    {
      "cell_type": "code",
      "source": [
        "#Exploring incorrect reviews\n",
        "\n",
        "# Qualifier: None incorrect by > 3\n",
        "\n",
        "# Contradictory: \n",
        "contradictory[abs(contradictory['SVM_pred'] - contradictory['stars']) > 2]\n",
        "contradictory[abs(contradictory['Bayes_pred'] - contradictory['stars']) > 2]\n",
        "contradictory[abs(contradictory['BERT_pred'] - contradictory['stars']) > 2]"
      ],
      "metadata": {
        "id": "V5tMSakMFUil"
      },
      "execution_count": null,
      "outputs": []
    },
    {
      "cell_type": "code",
      "source": [
        "# Figurative: \n",
        "\n",
        "figurative[abs(figurative['BERT_pred'] - figurative['stars']) > 2]\n",
        "figurative[abs(figurative['Bayes_pred'] - figurative['stars']) > 2]\n",
        "figurative[abs(figurative['BERT_pred'] - figurative['stars']) > 2]"
      ],
      "metadata": {
        "id": "tz5nnldsNcKQ"
      },
      "execution_count": null,
      "outputs": []
    }
  ]
}