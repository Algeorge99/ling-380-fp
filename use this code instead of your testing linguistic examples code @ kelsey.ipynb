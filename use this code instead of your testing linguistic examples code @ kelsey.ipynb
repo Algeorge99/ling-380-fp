{
 "cells": [
  {
   "cell_type": "code",
   "execution_count": 1,
   "id": "2d16a73d",
   "metadata": {},
   "outputs": [],
   "source": [
    "def short_extract(df_extra):\n",
    "    import random\n",
    "    for ix, review in enumerate(df_extra[\"text_clean\"].values):\n",
    "        r = review.split()\n",
    "        for i in range(0, len(r)//5): #20 % of words\n",
    "            r.pop(random.randrange(len(r)))\n",
    "        df_extra[\"text_clean\"].values[ix] = \" \".join(r)\n",
    "    return df_extra\n",
    "\n",
    "def create_dataloader(data):\n",
    "    tmp = get_features(data, 'text', 'stars')\n",
    "    return DataLoader(tmp)\n",
    "\n",
    "def make_predictions(dataloader):\n",
    "    pred = []\n",
    "    with torch.no_grad():\n",
    "        for k, (input_ids, attention_mask, labels) in enumerate(\n",
    "            tqdm(dataloader, total=len(dataloader), \n",
    "                 desc = \"example\")): \n",
    "            feed_dict = {'input_ids': input_ids.cuda(),\n",
    "                         'attention_mask': attention_mask.cuda()}\n",
    "\n",
    "            pred0 = model(**feed_dict)[0].cpu()\n",
    "            pred.append(pred0.numpy())\n",
    "    return pred"
   ]
  },
  {
   "cell_type": "code",
   "execution_count": null,
   "id": "89af65f2",
   "metadata": {},
   "outputs": [],
   "source": [
    "examples_ = pd.read_csv(\"example_sentences - examples_combined.csv\")\n",
    "examples_ = examples_.fillna(\"no text\")\n",
    "examples_qualifier = examples[examples['qualifier'] == 1]\n",
    "examples_contradictory = examples[examples['contradictory'] == 1]\n",
    "examples_confusing = examples[examples['confusing'] == 1]\n",
    "examples_figurative = examples[examples['figurative'] == 1]\n",
    "\n",
    "n_iter = 20\n",
    "egde_ = []*n_iter\n",
    "for i in range(n_iter)\n",
    "    examples = short_extract(examples_.copy(deep = True))\n",
    "\n",
    "    examples_qualifier_dataloader = \\\n",
    "        create_dataloader(examples[examples['qualifier'] == 1])\n",
    "    examples_contradictory_dataloader = \\\n",
    "        create_dataloader(examples[examples['contradictory'] == 1])\n",
    "    examples_confusing_dataloader = \\\n",
    "        create_dataloader(examples[examples['confusing'] == 1])\n",
    "    examples_figurative_dataloader = \\\n",
    "        create_dataloader(examples[examples['figurative'] == 1])\n",
    "\n",
    "    predictions_qualifier1 = \\\n",
    "        np.array([i for k in make_predictions(\\\n",
    "            examples_qualifier_dataloader) for i in k])\n",
    "    examples_qualifier['predictions'] = \\\n",
    "        np.argmax(predictions_qualifier1, axis = 1) + 1\n",
    "\n",
    "    predictions_contradictory1  = \\\n",
    "        np.array([i for k in make_predictions(\\\n",
    "            examples_contradictory_dataloader) for i in k])\n",
    "    examples_contradictory['predictions'] = \\\n",
    "        np.argmax(predictions_contradictory1, axis = 1) + 1\n",
    "\n",
    "    predictions_confusing1  = \\\n",
    "        np.array([i for k in make_predictions(\\\n",
    "            examples_confusing_dataloader) for i in k])\n",
    "    examples_confusing['predictions'] = \\\n",
    "        np.argmax(predictions_confusing1, axis = 1) + 1\n",
    "\n",
    "    predictions_figurative1  = \\\n",
    "        np.array([i for k in make_predictions(\\\n",
    "            examples_figurative_dataloader) for i in k])\n",
    "    examples_figurative['predictions'] =\n",
    "        np.argmax(predictions_figurative1, axis = 1) + 1\n",
    "        \n",
    "    tmp = []\n",
    "    for example_type in (examples_contradictory, examples_figurative,\\\n",
    "                  examples_qualifier):\n",
    "        tmp.append(sum(example_type))"
   ]
  },
  {
   "cell_type": "code",
   "execution_count": null,
   "id": "d45703d5",
   "metadata": {},
   "outputs": [],
   "source": [
    "cont, fig, q"
   ]
  },
  {
   "cell_type": "code",
   "execution_count": null,
   "id": "fd6af26c",
   "metadata": {},
   "outputs": [],
   "source": []
  }
 ],
 "metadata": {
  "kernelspec": {
   "display_name": "Python 3 (ipykernel)",
   "language": "python",
   "name": "python3"
  },
  "language_info": {
   "codemirror_mode": {
    "name": "ipython",
    "version": 3
   },
   "file_extension": ".py",
   "mimetype": "text/x-python",
   "name": "python",
   "nbconvert_exporter": "python",
   "pygments_lexer": "ipython3",
   "version": "3.8.12"
  }
 },
 "nbformat": 4,
 "nbformat_minor": 5
}
