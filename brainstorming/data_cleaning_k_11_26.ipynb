{
 "cells": [
  {
   "cell_type": "code",
   "execution_count": 1,
   "id": "beba90b6",
   "metadata": {},
   "outputs": [],
   "source": [
    "import pandas as pd\n",
    "import numpy as np\n",
    "import re\n",
    "from pathlib import Path\n",
    "import json\n",
    "import seaborn as sns\n",
    "from collections import Counter"
   ]
  },
  {
   "cell_type": "code",
   "execution_count": 2,
   "id": "a9e5bff0",
   "metadata": {},
   "outputs": [
    {
     "name": "stdout",
     "output_type": "stream",
     "text": [
      "/Users/kelsey/yelp\n"
     ]
    }
   ],
   "source": [
    "%cd /Users/kelsey/yelp"
   ]
  },
  {
   "cell_type": "code",
   "execution_count": 3,
   "id": "61706115",
   "metadata": {},
   "outputs": [],
   "source": [
    "# downloaded this from kaggle\n",
    "yelp = pd.read_csv(\"yelp_review.csv\")"
   ]
  },
  {
   "cell_type": "code",
   "execution_count": 4,
   "id": "e96b9180",
   "metadata": {},
   "outputs": [],
   "source": [
    "counter_star = Counter(yelp['stars'])\n",
    "min_class = -1\n",
    "min_amount = 1000000000\n",
    "for cs in counter_star:\n",
    "    if min_amount > counter_star[cs]:\n",
    "        min_amount = counter_star[cs]\n",
    "        min_class = cs\n",
    "remove_amounts = {c: abs(min_amount - counter_star[c]) for c in counter_star}\n",
    "remove_amounts[1] -= 1\n",
    "drop_indices = []\n",
    "for index, row in yelp.iterrows():\n",
    "    if remove_amounts[row['stars']] > 0:\n",
    "        remove_amounts[row['stars']] -= 1\n",
    "        drop_indices.append(index)\n",
    "\n",
    "yelp = yelp.drop(drop_indices)"
   ]
  },
  {
   "cell_type": "code",
   "execution_count": 5,
   "id": "54d71bb2",
   "metadata": {},
   "outputs": [
    {
     "name": "stderr",
     "output_type": "stream",
     "text": [
      "/Users/kelsey/opt/anaconda3/lib/python3.8/site-packages/seaborn/_decorators.py:36: FutureWarning: Pass the following variable as a keyword arg: x. From version 0.12, the only valid positional argument will be `data`, and passing other arguments without an explicit keyword will result in an error or misinterpretation.\n",
      "  warnings.warn(\n"
     ]
    },
    {
     "data": {
      "text/plain": [
       "<AxesSubplot:xlabel='stars', ylabel='count'>"
      ]
     },
     "execution_count": 5,
     "metadata": {},
     "output_type": "execute_result"
    },
    {
     "data": {
      "image/png": "[encoded data removed]",
      "text/plain": [
       "<Figure size 432x288 with 1 Axes>"
      ]
     },
     "metadata": {
      "needs_background": "light"
     },
     "output_type": "display_data"
    }
   ],
   "source": [
    "yelp = yelp.sample(frac = 0.03, replace = False)\n",
    "sns.countplot(yelp['stars'])"
   ]
  },
  {
   "cell_type": "code",
   "execution_count": 6,
   "id": "3b8cc137",
   "metadata": {},
   "outputs": [],
   "source": [
    "# data cleaning advice from: https://towardsdatascience.com/text-cleaning-methods-for-natural-language-processing-f2fc1796e8c7\n",
    "\n",
    "def  clean_text(df, text_field, new_text_field_name):\n",
    "    df[new_text_field_name] = df[text_field].str.lower()\n",
    "    df[new_text_field_name] = df[new_text_field_name].apply(lambda elem: re.sub(r\"(@[A-Za-z0-9]+)|([^0-9A-Za-z \\t])|(\\w+:\\/\\/\\S+)|^rt|http.+?\", \"\", elem))  \n",
    "    # remove numbers\n",
    "    df[new_text_field_name] = df[new_text_field_name].apply(lambda elem: re.sub(r\"\\d+\", \"\", elem))\n",
    "    return df\n",
    "\n",
    "yelp = clean_text(yelp, 'text', 'text_clean')"
   ]
  },
  {
   "cell_type": "code",
   "execution_count": 7,
   "id": "2a235a69",
   "metadata": {},
   "outputs": [
    {
     "name": "stderr",
     "output_type": "stream",
     "text": [
      "[nltk_data] Downloading package stopwords to\n",
      "[nltk_data]     /Users/kelsey/nltk_data...\n",
      "[nltk_data]   Package stopwords is already up-to-date!\n"
     ]
    }
   ],
   "source": [
    "import nltk.corpus\n",
    "nltk.download('stopwords')\n",
    "from nltk.corpus import stopwords\n",
    "stop = stopwords.words('english')\n",
    "yelp['text_clean'] = yelp['text_clean'].apply(lambda x: ' '.join([word for word in x.split() if word not in (stop)]))"
   ]
  },
  {
   "cell_type": "code",
   "execution_count": 8,
   "id": "6d6b3be8",
   "metadata": {},
   "outputs": [],
   "source": [
    "yelp.to_csv(\"yelp_clean.csv\")"
   ]
  }
 ],
 "metadata": {
  "kernelspec": {
   "display_name": "Python 3",
   "language": "python",
   "name": "python3"
  },
  "language_info": {
   "codemirror_mode": {
    "name": "ipython",
    "version": 3
   },
   "file_extension": ".py",
   "mimetype": "text/x-python",
   "name": "python",
   "nbconvert_exporter": "python",
   "pygments_lexer": "ipython3",
   "version": "3.8.8"
  }
 },
 "nbformat": 4,
 "nbformat_minor": 5
}
