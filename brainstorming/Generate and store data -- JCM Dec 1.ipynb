{
 "cells": [
  {
   "cell_type": "code",
   "execution_count": 1,
   "metadata": {},
   "outputs": [
    {
     "name": "stderr",
     "output_type": "stream",
     "text": [
      "8635403it [01:34, 91639.22it/s] \n"
     ]
    },
    {
     "name": "stdout",
     "output_type": "stream",
     "text": [
      "8635403\n",
      "{\n",
      "    \"review_id\": \"lWC-xP3rd6obsecCYsGZRg\",\n",
      "    \"user_id\": \"ak0TdVmGKo4pwqdJSTLwWw\",\n",
      "    \"business_id\": \"buF9druCkbuXLX526sGELQ\",\n",
      "    \"stars\": 4.0,\n",
      "    \"text\": \"Apparently Prides Osteria had a rough summer as evidenced by the almost empty dining room at 6:30 on a Friday night. However new blood in the kitchen seems to have revitalized the food from other customers recent visits. Waitstaff was warm but unobtrusive. By 8 pm or so when we left the bar was full and the dining room was much more lively than it had been. Perhaps Beverly residents prefer a later seating. \\n\\nAfter reading the mixed reviews of late I was a little tentative over our choice but luckily there was nothing to worry about in the food department. We started with the fried dough, burrata and prosciutto which were all lovely. Then although they don't offer half portions of pasta we each ordered the entree size and split them. We chose the tagliatelle bolognese and a four cheese filled pasta in a creamy sauce with bacon, asparagus and grana frita. Both were very good. We split a secondi which was the special Berkshire pork secreto, which was described as a pork skirt steak with garlic potato pur\\u00e9e and romanesco broccoli (incorrectly described as a romanesco sauce). Some tables received bread before the meal but for some reason we did not. \\n\\nManagement also seems capable for when the tenants in the apartment above began playing basketball she intervened and also comped the tables a dessert. We ordered the apple dumpling with gelato and it was also quite tasty. Portions are not huge which I particularly like because I prefer to order courses. If you are someone who orders just a meal you may leave hungry depending on you appetite. Dining room was mostly younger crowd while the bar was definitely the over 40 set. Would recommend that the naysayers return to see the improvement although I personally don't know the former glory to be able to compare. Easy access to downtown Salem without the crowds on this month of October.\"\n",
      "}\n"
     ]
    },
    {
     "name": "stderr",
     "output_type": "stream",
     "text": [
      "160585it [00:03, 46270.20it/s]\n"
     ]
    },
    {
     "name": "stdout",
     "output_type": "stream",
     "text": [
      "50763\n"
     ]
    },
    {
     "name": "stderr",
     "output_type": "stream",
     "text": [
      "2189455it [01:01, 35444.88it/s]"
     ]
    },
    {
     "name": "stdout",
     "output_type": "stream",
     "text": [
      "2189454\n"
     ]
    },
    {
     "name": "stderr",
     "output_type": "stream",
     "text": [
      "\n"
     ]
    }
   ],
   "source": [
    "import json\n",
    "from collections import defaultdict\n",
    "from tqdm import tqdm\n",
    "import numpy as np\n",
    "\n",
    "filename = 'yelp_academic_dataset_review.json'\n",
    "target_user_ids = dict()\n",
    "target_item_ids = dict()\n",
    "reviews = []\n",
    "with open(filename, 'rt') as f:\n",
    "        for line in tqdm(f):\n",
    "            data = json.loads(line)\n",
    "\n",
    "            reviews.append({\n",
    "                key: data[key]\n",
    "                for key in ['review_id', 'user_id', 'business_id', 'stars', \"text\"]\n",
    "            })\n",
    "            target_user_ids[data['user_id']] = True\n",
    "            target_item_ids[data['business_id']] = True\n",
    "print(len(reviews))\n",
    "print(json.dumps(reviews[0], indent=4))\n",
    "\n",
    "\n",
    "filename = 'yelp_academic_dataset_business.json'\n",
    "items = list()\n",
    "with open(filename, 'rt') as f:\n",
    "        for line in tqdm(f):\n",
    "            data = json.loads(line)\n",
    "            if data['business_id'] in target_item_ids and \\\n",
    "                    (data[\"categories\"] is not None and \"Restaurants\" in data[\"categories\"]):\n",
    "                items.append({k : v for k,v in data.items()\n",
    "                              if k not in ['name', 'address', 'latitude', 'longitude',\n",
    "                                           'city', 'state', 'postal_code', 'attributes', 'hours']})\n",
    "print(len(items))\n",
    "\n",
    "filename = 'yelp_academic_dataset_user.json'\n",
    "users = list()\n",
    "with open(filename, 'rt') as f:\n",
    "        for line in tqdm(f):\n",
    "            try:\n",
    "                data = json.loads(line)\n",
    "                if data['user_id'] in target_user_ids:\n",
    "                    users.append({k : v for k,v in data.items()\n",
    "                                      if k not in ['name', 'yelping_since', 'elite', 'friends']})\n",
    "            except:\n",
    "                pass\n",
    "print(len(users))"
   ]
  },
  {
   "cell_type": "code",
   "execution_count": 2,
   "metadata": {},
   "outputs": [
    {
     "name": "stderr",
     "output_type": "stream",
     "text": [
      "/tmp/ipykernel_3063/1516477187.py:14: PerformanceWarning: DataFrame is highly fragmented.  This is usually the result of calling `frame.insert` many times, which has poor performance.  Consider joining all columns at once using pd.concat(axis=1) instead.  To get a de-fragmented frame, use `newframe = frame.copy()`\n",
      "  item_df[category] = np.zeros(len(item_df))\n"
     ]
    }
   ],
   "source": [
    "import pandas as pd\n",
    "item_df = pd.DataFrame(items)\n",
    "\n",
    "from collections import Counter\n",
    "category_dict = Counter()\n",
    "\n",
    "for _, row in item_df.iterrows():\n",
    "    if 'categories' not in row:\n",
    "        continue\n",
    "    for category in row['categories'].split(', '):\n",
    "        category_dict[category] += 1\n",
    "        \n",
    "for category in category_dict.keys():\n",
    "    item_df[category] = np.zeros(len(item_df))\n",
    "\n",
    "for ind, row in item_df.iterrows():\n",
    "    if 'categories' not in row:\n",
    "        continue\n",
    "    for category in row['categories'].split(', '):\n",
    "        item_df.at[ind, category] = 1\n",
    "item_df.drop(['categories'], axis=1, inplace = True)"
   ]
  },
  {
   "cell_type": "code",
   "execution_count": 4,
   "metadata": {},
   "outputs": [
    {
     "data": {
      "text/plain": [
       "0"
      ]
     },
     "execution_count": 4,
     "metadata": {},
     "output_type": "execute_result"
    }
   ],
   "source": [
    "import gc\n",
    "\n",
    "review_df = pd.DataFrame(reviews)\n",
    "del reviews\n",
    "\n",
    "user_df = pd.DataFrame(users)\n",
    "del target_user_ids, target_item_ids, items, users, category_dict\n",
    "gc.collect()\n",
    "\n",
    "for cat in review_df.columns:\n",
    "    if cat != \"stars\":\n",
    "        review_df[cat] = review_df[cat].astype(\"string\")\n",
    "        \n",
    "user_df[\"user_id\"] = user_df[\"user_id\"].astype(\"string\")\n",
    "\n",
    "gc.collect()"
   ]
  },
  {
   "cell_type": "code",
   "execution_count": 11,
   "metadata": {},
   "outputs": [
    {
     "data": {
      "text/plain": [
       "0"
      ]
     },
     "execution_count": 11,
     "metadata": {},
     "output_type": "execute_result"
    }
   ],
   "source": [
    "merge_df = pd.merge(review_df, user_df, on='user_id')\n",
    "\n",
    "\n",
    "for cat in merge_df.columns:\n",
    "    if cat in [\"text\", \"business_id\", \"user_id\", \"review_id\"]:\n",
    "        merge_df[cat] = merge_df[cat].astype(\"string\")\n",
    "    elif cat == \"average_stars\":\n",
    "        merge_df[cat] = merge_df[cat].astype(\"float16\")\n",
    "    elif cat == \"stars\":\n",
    "        pass\n",
    "    else:\n",
    "        merge_df[cat] = merge_df[cat].astype('int16')\n",
    "gc.collect()"
   ]
  },
  {
   "cell_type": "code",
   "execution_count": null,
   "metadata": {},
   "outputs": [
    {
     "name": "stderr",
     "output_type": "stream",
     "text": [
      "1954043it [00:11, 160849.91it/s]"
     ]
    }
   ],
   "source": [
    "filename = 'yelp_academic_dataset_review.json'\n",
    "with open(filename, 'rt') as f:\n",
    "        for line in tqdm(f):\n",
    "            data = json.loads(line)\n",
    "            if data[\"stars\"] not in [1,2,3,4,5]:\n",
    "                print('helli')"
   ]
  },
  {
   "cell_type": "code",
   "execution_count": 14,
   "metadata": {},
   "outputs": [],
   "source": [
    "import pandas as pd\n",
    "import numpy as np\n",
    "\n",
    "merge_df = pd.read_pickle(\"./pickled_merged_df.pkl\")\n",
    "business_info_df = pd.read_pickle(\"item_df.pkl\")"
   ]
  },
  {
   "cell_type": "code",
   "execution_count": 15,
   "metadata": {},
   "outputs": [
    {
     "name": "stdout",
     "output_type": "stream",
     "text": [
      "<class 'pandas.core.frame.DataFrame'>\n",
      "RangeIndex: 50763 entries, 0 to 50762\n",
      "Columns: 730 entries, business_id to Elementary Schools\n",
      "dtypes: float64(727), int64(2), object(1)\n",
      "memory usage: 286.2 MB\n",
      "<class 'pandas.core.frame.DataFrame'>\n",
      "RangeIndex: 50763 entries, 0 to 50762\n",
      "Columns: 729 entries, business_id to Elementary Schools\n",
      "dtypes: float16(726), int16(2), string(1)\n",
      "memory usage: 74.3 MB\n"
     ]
    }
   ],
   "source": [
    "business_info_df.info(memory_usage=\"deep\")\n",
    "business_info_df[\"business_id\"] = business_info_df[\"business_id\"].astype(\"string\")\n",
    "zero_cols = [ col for col, is_zero in ((business_info_df == 0).sum() == business_info_df.shape[0]).items() if is_zero ]\n",
    "business_info_df.drop(zero_cols, axis=1, inplace=True)\n",
    "\n",
    "for i, cat in zip(business_info_df.dtypes,business_info_df.columns):\n",
    "    if i in [np.float64, np.float32, np.float16]:\n",
    "        business_info_df[cat] = business_info_df[cat].astype(\"float16\")\n",
    "    elif i in [np.int64, np.int32, np.int16]:\n",
    "        business_info_df[cat] = business_info_df[cat].astype(\"int16\")\n",
    "    else:\n",
    "        business_info_df[cat] = business_info_df[cat].astype(\"string\")\n",
    "merge_df.drop(['review_id'], axis = 1, inplace = True)\n",
    "\n",
    "business_info_df.info(memory_usage=\"deep\")"
   ]
  },
  {
   "cell_type": "code",
   "execution_count": 17,
   "metadata": {},
   "outputs": [
    {
     "data": {
      "text/html": [
       "<div>\n",
       "<style scoped>\n",
       "    .dataframe tbody tr th:only-of-type {\n",
       "        vertical-align: middle;\n",
       "    }\n",
       "\n",
       "    .dataframe tbody tr th {\n",
       "        vertical-align: top;\n",
       "    }\n",
       "\n",
       "    .dataframe thead th {\n",
       "        text-align: right;\n",
       "    }\n",
       "</style>\n",
       "<table border=\"1\" class=\"dataframe\">\n",
       "  <thead>\n",
       "    <tr style=\"text-align: right;\">\n",
       "      <th></th>\n",
       "      <th>review_id</th>\n",
       "      <th>business_id</th>\n",
       "      <th>stars</th>\n",
       "      <th>text</th>\n",
       "      <th>review_count</th>\n",
       "      <th>useful</th>\n",
       "      <th>funny</th>\n",
       "      <th>cool</th>\n",
       "      <th>fans</th>\n",
       "      <th>average_stars</th>\n",
       "      <th>...</th>\n",
       "      <th>compliment_more</th>\n",
       "      <th>compliment_profile</th>\n",
       "      <th>compliment_cute</th>\n",
       "      <th>compliment_list</th>\n",
       "      <th>compliment_note</th>\n",
       "      <th>compliment_plain</th>\n",
       "      <th>compliment_cool</th>\n",
       "      <th>compliment_funny</th>\n",
       "      <th>compliment_writer</th>\n",
       "      <th>compliment_photos</th>\n",
       "    </tr>\n",
       "  </thead>\n",
       "  <tbody>\n",
       "    <tr>\n",
       "      <th>0</th>\n",
       "      <td>lWC-xP3rd6obsecCYsGZRg</td>\n",
       "      <td>buF9druCkbuXLX526sGELQ</td>\n",
       "      <td>4</td>\n",
       "      <td>Apparently Prides Osteria had a rough summer a...</td>\n",
       "      <td>63</td>\n",
       "      <td>44</td>\n",
       "      <td>5</td>\n",
       "      <td>14</td>\n",
       "      <td>2</td>\n",
       "      <td>4.300781</td>\n",
       "      <td>...</td>\n",
       "      <td>0</td>\n",
       "      <td>0</td>\n",
       "      <td>0</td>\n",
       "      <td>0</td>\n",
       "      <td>2</td>\n",
       "      <td>3</td>\n",
       "      <td>1</td>\n",
       "      <td>1</td>\n",
       "      <td>1</td>\n",
       "      <td>5</td>\n",
       "    </tr>\n",
       "    <tr>\n",
       "      <th>1</th>\n",
       "      <td>fLlML7BjkR4_fJnND_hEJw</td>\n",
       "      <td>bNZ3-0rse12NKdSVqQ30xw</td>\n",
       "      <td>4</td>\n",
       "      <td>Came with friends, split the funghi pizza and ...</td>\n",
       "      <td>63</td>\n",
       "      <td>44</td>\n",
       "      <td>5</td>\n",
       "      <td>14</td>\n",
       "      <td>2</td>\n",
       "      <td>4.300781</td>\n",
       "      <td>...</td>\n",
       "      <td>0</td>\n",
       "      <td>0</td>\n",
       "      <td>0</td>\n",
       "      <td>0</td>\n",
       "      <td>2</td>\n",
       "      <td>3</td>\n",
       "      <td>1</td>\n",
       "      <td>1</td>\n",
       "      <td>1</td>\n",
       "      <td>5</td>\n",
       "    </tr>\n",
       "    <tr>\n",
       "      <th>2</th>\n",
       "      <td>pRtbswupEVIG1Ykj9xkL7Q</td>\n",
       "      <td>BVsIaKL-8QXVjt0Z9WoFWw</td>\n",
       "      <td>4</td>\n",
       "      <td>Went for late lunch had the combination seafoo...</td>\n",
       "      <td>63</td>\n",
       "      <td>44</td>\n",
       "      <td>5</td>\n",
       "      <td>14</td>\n",
       "      <td>2</td>\n",
       "      <td>4.300781</td>\n",
       "      <td>...</td>\n",
       "      <td>0</td>\n",
       "      <td>0</td>\n",
       "      <td>0</td>\n",
       "      <td>0</td>\n",
       "      <td>2</td>\n",
       "      <td>3</td>\n",
       "      <td>1</td>\n",
       "      <td>1</td>\n",
       "      <td>1</td>\n",
       "      <td>5</td>\n",
       "    </tr>\n",
       "    <tr>\n",
       "      <th>3</th>\n",
       "      <td>fUYl6bnZy4bSGnbPAizXug</td>\n",
       "      <td>4MClvr12OXBNvGu8h1yGpA</td>\n",
       "      <td>5</td>\n",
       "      <td>We were super excited to try Sarma, having bee...</td>\n",
       "      <td>63</td>\n",
       "      <td>44</td>\n",
       "      <td>5</td>\n",
       "      <td>14</td>\n",
       "      <td>2</td>\n",
       "      <td>4.300781</td>\n",
       "      <td>...</td>\n",
       "      <td>0</td>\n",
       "      <td>0</td>\n",
       "      <td>0</td>\n",
       "      <td>0</td>\n",
       "      <td>2</td>\n",
       "      <td>3</td>\n",
       "      <td>1</td>\n",
       "      <td>1</td>\n",
       "      <td>1</td>\n",
       "      <td>5</td>\n",
       "    </tr>\n",
       "    <tr>\n",
       "      <th>4</th>\n",
       "      <td>jHh2LIXNsnJCMUiyI9pt5w</td>\n",
       "      <td>2vH58mhkEl8GdcDug1OwWg</td>\n",
       "      <td>5</td>\n",
       "      <td>So glad we made the trip to Woburn for Gene's ...</td>\n",
       "      <td>63</td>\n",
       "      <td>44</td>\n",
       "      <td>5</td>\n",
       "      <td>14</td>\n",
       "      <td>2</td>\n",
       "      <td>4.300781</td>\n",
       "      <td>...</td>\n",
       "      <td>0</td>\n",
       "      <td>0</td>\n",
       "      <td>0</td>\n",
       "      <td>0</td>\n",
       "      <td>2</td>\n",
       "      <td>3</td>\n",
       "      <td>1</td>\n",
       "      <td>1</td>\n",
       "      <td>1</td>\n",
       "      <td>5</td>\n",
       "    </tr>\n",
       "  </tbody>\n",
       "</table>\n",
       "<p>5 rows × 21 columns</p>\n",
       "</div>"
      ],
      "text/plain": [
       "                review_id             business_id  stars  \\\n",
       "0  lWC-xP3rd6obsecCYsGZRg  buF9druCkbuXLX526sGELQ      4   \n",
       "1  fLlML7BjkR4_fJnND_hEJw  bNZ3-0rse12NKdSVqQ30xw      4   \n",
       "2  pRtbswupEVIG1Ykj9xkL7Q  BVsIaKL-8QXVjt0Z9WoFWw      4   \n",
       "3  fUYl6bnZy4bSGnbPAizXug  4MClvr12OXBNvGu8h1yGpA      5   \n",
       "4  jHh2LIXNsnJCMUiyI9pt5w  2vH58mhkEl8GdcDug1OwWg      5   \n",
       "\n",
       "                                                text  review_count  useful  \\\n",
       "0  Apparently Prides Osteria had a rough summer a...            63      44   \n",
       "1  Came with friends, split the funghi pizza and ...            63      44   \n",
       "2  Went for late lunch had the combination seafoo...            63      44   \n",
       "3  We were super excited to try Sarma, having bee...            63      44   \n",
       "4  So glad we made the trip to Woburn for Gene's ...            63      44   \n",
       "\n",
       "   funny  cool  fans  average_stars  ...  compliment_more  compliment_profile  \\\n",
       "0      5    14     2       4.300781  ...                0                   0   \n",
       "1      5    14     2       4.300781  ...                0                   0   \n",
       "2      5    14     2       4.300781  ...                0                   0   \n",
       "3      5    14     2       4.300781  ...                0                   0   \n",
       "4      5    14     2       4.300781  ...                0                   0   \n",
       "\n",
       "   compliment_cute  compliment_list  compliment_note  compliment_plain  \\\n",
       "0                0                0                2                 3   \n",
       "1                0                0                2                 3   \n",
       "2                0                0                2                 3   \n",
       "3                0                0                2                 3   \n",
       "4                0                0                2                 3   \n",
       "\n",
       "   compliment_cool  compliment_funny  compliment_writer  compliment_photos  \n",
       "0                1                 1                  1                  5  \n",
       "1                1                 1                  1                  5  \n",
       "2                1                 1                  1                  5  \n",
       "3                1                 1                  1                  5  \n",
       "4                1                 1                  1                  5  \n",
       "\n",
       "[5 rows x 21 columns]"
      ]
     },
     "execution_count": 17,
     "metadata": {},
     "output_type": "execute_result"
    }
   ],
   "source": [
    "merge_df.head()"
   ]
  },
  {
   "cell_type": "code",
   "execution_count": null,
   "metadata": {},
   "outputs": [],
   "source": [
    "merge_df = pd.merge(merge_df, business_info_df, on='business_id')\n",
    "merge_df.drop(['business_id'], axis=1, inplace = True)"
   ]
  },
  {
   "cell_type": "code",
   "execution_count": 1,
   "metadata": {},
   "outputs": [
    {
     "ename": "NameError",
     "evalue": "name 'merge_df' is not defined",
     "output_type": "error",
     "traceback": [
      "\u001b[0;31m---------------------------------------------------------------------------\u001b[0m",
      "\u001b[0;31mNameError\u001b[0m                                 Traceback (most recent call last)",
      "\u001b[0;32m/tmp/ipykernel_10627/419998230.py\u001b[0m in \u001b[0;36m<module>\u001b[0;34m\u001b[0m\n\u001b[0;32m----> 1\u001b[0;31m \u001b[0mmerge_df\u001b[0m\u001b[0;34m\u001b[0m\u001b[0;34m\u001b[0m\u001b[0m\n\u001b[0m",
      "\u001b[0;31mNameError\u001b[0m: name 'merge_df' is not defined"
     ]
    }
   ],
   "source": []
  },
  {
   "cell_type": "code",
   "execution_count": null,
   "metadata": {},
   "outputs": [],
   "source": [
    "business_info_df.head(1)"
   ]
  },
  {
   "cell_type": "code",
   "execution_count": null,
   "metadata": {},
   "outputs": [],
   "source": [
    "merge_df.head(1)"
   ]
  },
  {
   "cell_type": "code",
   "execution_count": 38,
   "metadata": {},
   "outputs": [],
   "source": [
    "#https://www.kaggle.com/subhambanerjee1606/aspect-opinion-extraction-and-modelling#Spacy-Dependency-Parsing\n",
    "    \n",
    "#https://www.kaggle.com/courierliu/yelp-feature-base-recommendation"
   ]
  },
  {
   "cell_type": "code",
   "execution_count": 14,
   "metadata": {},
   "outputs": [
    {
     "name": "stdout",
     "output_type": "stream",
     "text": [
      "object <class 'numpy.dtype[object_]'> True\n"
     ]
    }
   ],
   "source": [
    "    print(i, type(i), i == np.object_)\n",
    "    break"
   ]
  },
  {
   "cell_type": "code",
   "execution_count": 15,
   "metadata": {},
   "outputs": [
    {
     "data": {
      "text/plain": [
       "numpy.float64"
      ]
     },
     "execution_count": 15,
     "metadata": {},
     "output_type": "execute_result"
    }
   ],
   "source": [
    "np.float64"
   ]
  },
  {
   "cell_type": "code",
   "execution_count": 19,
   "metadata": {},
   "outputs": [
    {
     "data": {
      "text/plain": [
       "numpy.bytes_"
      ]
     },
     "execution_count": 19,
     "metadata": {},
     "output_type": "execute_result"
    }
   ],
   "source": [
    "np.string_"
   ]
  },
  {
   "cell_type": "code",
   "execution_count": null,
   "metadata": {},
   "outputs": [],
   "source": []
  }
 ],
 "metadata": {
  "kernelspec": {
   "display_name": "Python 3 (ipykernel)",
   "language": "python",
   "name": "python3"
  },
  "language_info": {
   "codemirror_mode": {
    "name": "ipython",
    "version": 3
   },
   "file_extension": ".py",
   "mimetype": "text/x-python",
   "name": "python",
   "nbconvert_exporter": "python",
   "pygments_lexer": "ipython3",
   "version": "3.8.12"
  }
 },
 "nbformat": 4,
 "nbformat_minor": 4
}
