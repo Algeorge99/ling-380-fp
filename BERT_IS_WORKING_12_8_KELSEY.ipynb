{
 "cells": [
  {
   "cell_type": "code",
   "execution_count": null,
   "id": "aa2c4dc8",
   "metadata": {},
   "outputs": [],
   "source": [
    "%cd /Users/kelsey/yelp"
   ]
  },
  {
   "cell_type": "code",
   "execution_count": null,
   "id": "d536b36d",
   "metadata": {
    "id": "d536b36d"
   },
   "outputs": [],
   "source": [
    "#!pip install transformers==3.5.1\n",
    "#!pip install bert-for-tf2\n",
    "#!pip install sentencepiece\n",
    "#!pip install bert\n",
    "#!pip install bert-tensorflow\n",
    "#!pip install seaborn\n",
    "#!pip install tensorflow\n",
    "#!pip install tensorflow_hub\n",
    "#!pip install sklearn"
   ]
  },
  {
   "cell_type": "code",
   "execution_count": null,
   "id": "657b4b49",
   "metadata": {
    "id": "657b4b49"
   },
   "outputs": [],
   "source": [
    "import random\n",
    "import numpy as np\n",
    "import pandas as pd\n",
    "#import matplotlib.pyplot as plt\n",
    "import seaborn as sns\n",
    "sns.set()\n",
    "import tensorflow as tf\n",
    "import tensorflow_hub as hub\n",
    "from datetime import datetime\n",
    "from transformers import *\n",
    "import torch\n",
    "from transformers.data.processors.utils import InputExample\n",
    "from torch import nn\n",
    "from torch.autograd import Variable\n",
    "from torch.utils.data import TensorDataset, DataLoader\n",
    "from torch.optim import Adam\n",
    "from sklearn.model_selection import train_test_split\n",
    "from tqdm.notebook import tqdm, tnrange \n",
    "import time\n",
    "import bert\n",
    "from bert import optimization\n",
    "from bert import tokenization"
   ]
  },
  {
   "cell_type": "code",
   "execution_count": null,
   "id": "5a6f2018",
   "metadata": {
    "id": "5a6f2018"
   },
   "outputs": [],
   "source": [
    "yelp = pd.read_csv(\"yelp_clean.csv\")"
   ]
  },
  {
   "cell_type": "code",
   "execution_count": null,
   "id": "0bd6e525",
   "metadata": {
    "id": "0bd6e525"
   },
   "outputs": [],
   "source": [
    "yelp = yelp.fillna(\"no text\")"
   ]
  },
  {
   "cell_type": "code",
   "execution_count": null,
   "id": "6763b555",
   "metadata": {
    "id": "6763b555"
   },
   "outputs": [],
   "source": [
    "x = yelp['text_clean'].tolist()\n",
    "y = yelp['stars'].tolist()\n",
    "\n",
    "x_train, x_test, y_train, y_test = train_test_split(x, y, test_size=0.33, random_state=42)"
   ]
  },
  {
   "cell_type": "code",
   "execution_count": null,
   "id": "f40ae967",
   "metadata": {
    "id": "f40ae967"
   },
   "outputs": [],
   "source": [
    "data_train = pd.DataFrame()\n",
    "data_train['text_clean'] = x_train\n",
    "data_train['stars'] = y_train\n",
    "\n",
    "data_test = pd.DataFrame()\n",
    "data_test['text_clean'] = x_test\n",
    "data_test['stars'] = y_test"
   ]
  },
  {
   "cell_type": "code",
   "execution_count": null,
   "id": "43ff4125",
   "metadata": {
    "id": "43ff4125"
   },
   "outputs": [],
   "source": [
    "def count_parameters(model):\n",
    "    return sum(p.numel() for p in model.parameters() if p.requires_grad)"
   ]
  },
  {
   "cell_type": "code",
   "execution_count": null,
   "id": "8d70cc3a",
   "metadata": {
    "id": "8d70cc3a"
   },
   "outputs": [],
   "source": [
    "hidden_size = 200"
   ]
  },
  {
   "cell_type": "code",
   "execution_count": null,
   "id": "b8eb00c2",
   "metadata": {
    "id": "b8eb00c2"
   },
   "outputs": [],
   "source": [
    "tokenizer = BertTokenizer.from_pretrained('bert-base-cased')\n",
    "model = BertForSequenceClassification.from_pretrained('bert-base-cased', num_labels=hidden_size)\n",
    "model.classifier.add_module('bert_activation', nn.Tanh())\n",
    "model.classifier.add_module('prediction', nn.Linear(hidden_size, 5))\n",
    "\n",
    "FINE_TUNE = True\n",
    "print(f'Total model trainable parameters {count_parameters(model)}')\n",
    "if FINE_TUNE:\n",
    "    for param in model.bert.parameters():\n",
    "        param.requires_grad = False\n",
    "\n",
    "    for param in model.classifier.parameters():\n",
    "        param.requires_grad = True\n",
    "    print(f'Total head trainable parameters {count_parameters(model)}')\n",
    "model; #.cuda()\n",
    "\n",
    "\n",
    "import warnings\n",
    "warnings.filterwarnings('ignore')"
   ]
  },
  {
   "cell_type": "code",
   "execution_count": null,
   "id": "bf8c55cd",
   "metadata": {
    "id": "bf8c55cd"
   },
   "outputs": [],
   "source": [
    "model.classifier"
   ]
  },
  {
   "cell_type": "code",
   "execution_count": null,
   "id": "179fc7b4",
   "metadata": {
    "colab": {
     "base_uri": "https://localhost:8080/"
    },
    "id": "179fc7b4",
    "outputId": "c0e2cfa3-c437-4681-8b85-ce4bc14490d5"
   },
   "outputs": [],
   "source": [
    "tokenized = tokenizer.tokenize('I am parachuting with you')\n",
    "print(tokenized)\n",
    "print(tokenizer.encode(tokenized, add_special_tokens=False))\n",
    "print(tokenizer.encode(tokenized, add_special_tokens=True))"
   ]
  },
  {
   "cell_type": "code",
   "execution_count": null,
   "id": "01332e15",
   "metadata": {
    "id": "01332e15"
   },
   "outputs": [],
   "source": [
    "def get_features(df, text_col, label_col):\n",
    "    l = [InputExample(guid=idx, text_a=df.loc[idx, text_col], label=df.loc[idx, label_col]) for \n",
    "       idx, row in tqdm(df.iterrows(), total=df.shape[0])]\n",
    "    features = glue_convert_examples_to_features(examples=l, \n",
    "                                    tokenizer=tokenizer,\n",
    "                                    max_length=300,\n",
    "                                    label_list = df[label_col].values,\n",
    "                                    output_mode='regression')\n",
    "\n",
    "    all_input_ids = torch.tensor([f.input_ids for f in features], dtype=torch.long)\n",
    "    all_attention_mask = torch.tensor([f.attention_mask for f in features], dtype=torch.long)\n",
    "    all_token_type_ids = torch.tensor([f.token_type_ids for f in features], dtype=torch.long)\n",
    "    all_labels = torch.tensor([f.label-1 for f in features], dtype=torch.long)\n",
    "    dataset = TensorDataset(all_input_ids, all_attention_mask, all_labels)\n",
    "    return dataset"
   ]
  },
  {
   "cell_type": "code",
   "execution_count": null,
   "id": "5d6138fb",
   "metadata": {
    "colab": {
     "base_uri": "https://localhost:8080/",
     "height": 136,
     "referenced_widgets": [
      "e3b0ffe3db0e4303a56abc6fd662df9a",
      "c74ba7255ec74d4f8c99f882193f06e2",
      "b2ed993bc2504104847f27be009ea91a",
      "88f6c8dcb82642fb8c60c8f1d3af4628",
      "ac3e6410b4a44332b27e25be7926e939",
      "5eb74ab5d9b8411ca82b21e96b9fa917",
      "b1ee62c7b815479c8c6841fe424da0ae",
      "4f48d81f17ff4e11a5df4e2b3ef6d618",
      "6e7d97d214f44455b9ceb1bc5d9368ef",
      "96d66486649b4aec9a110135ac4a2168",
      "7e5010492de54b44b502de1265b6e0f2",
      "a20a94a41ce84ba0949d900840b7fc1f",
      "6fa87aa6e4354d6f859d3c4338bc56ca",
      "4c0517f9fd4c4282a0d18c1913605f0f",
      "69b6762715964f4c80019ccff6561e48",
      "6bbf356c45f843f3b7f0ac063376a861",
      "3f6d43bb7a0a4e33b4548b6b0a9a246a",
      "ecb33bd790654507b2455f29c4fedd82",
      "c9582003d798401db43e55505b45cab5",
      "9a4490fd742448ba8ceb3058b3cf5a92",
      "592f06d8c5ea46458722f5129e05827b",
      "f3d3f626b804488290e73260f7fc2f35"
     ]
    },
    "id": "5d6138fb",
    "outputId": "bcc1ace2-4131-4309-8c0a-cbac517c12aa"
   },
   "outputs": [],
   "source": [
    "train_dataset = get_features(data_train, 'text_clean', 'stars')\n",
    "test_dataset = get_features(data_test, 'text_clean', 'stars')\n",
    "warnings.filterwarnings('ignore')"
   ]
  },
  {
   "cell_type": "code",
   "execution_count": null,
   "id": "fnvAifos-HES",
   "metadata": {
    "id": "fnvAifos-HES"
   },
   "outputs": [],
   "source": [
    "val_idx, train_idx = train_test_split(np.arange(len(train_dataset)), random_state=4, train_size=0.1)\n",
    "total_size = len(train_dataset)\n",
    "val_dataset = TensorDataset(*train_dataset[val_idx])\n",
    "train_dataset = TensorDataset(*train_dataset[train_idx])\n",
    "assert total_size == len(val_dataset) + len(train_dataset)"
   ]
  },
  {
   "cell_type": "code",
   "execution_count": null,
   "id": "Euv7FFsc-uDm",
   "metadata": {
    "id": "Euv7FFsc-uDm"
   },
   "outputs": [],
   "source": [
    "# works\n",
    "model(input_ids=train_dataset[:2][0],  #.cuda()\n",
    "      attention_mask=train_dataset[:2][1], #.cuda()\n",
    "      labels=train_dataset[:2][2]);  #.cuda()"
   ]
  },
  {
   "cell_type": "code",
   "execution_count": null,
   "id": "baOa_jvc-v62",
   "metadata": {
    "id": "baOa_jvc-v62"
   },
   "outputs": [],
   "source": [
    "batch_size = 16\n",
    "gradient_every = 32\n",
    "assert batch_size <= gradient_every and gradient_every % batch_size == 0\n",
    "\n",
    "accumulation_steps = gradient_every//batch_size\n",
    "\n",
    "train_dataloader = DataLoader(train_dataset, batch_size=batch_size, shuffle=True)\n",
    "val_dataloader = DataLoader(val_dataset, batch_size=batch_size*2, shuffle=False)\n",
    "test_dataloader = DataLoader(test_dataset, batch_size=batch_size*2, shuffle=False)\n",
    "\n",
    "epochs = 1\n",
    "\n",
    "lr = 0.002\n",
    "optimizer = AdamW(model.classifier.parameters(), lr=lr)  "
   ]
  },
  {
   "cell_type": "code",
   "execution_count": null,
   "id": "_ydDhV4p-ymc",
   "metadata": {
    "id": "_ydDhV4p-ymc"
   },
   "outputs": [],
   "source": [
    "tr_losses = []\n",
    "v_losses = []"
   ]
  },
  {
   "cell_type": "code",
   "execution_count": null,
   "id": "df_lhTcT-02w",
   "metadata": {
    "id": "df_lhTcT-02w"
   },
   "outputs": [],
   "source": [
    "# scheduler = get_linear_schedule_with_warmup(optimizer, num_warmup_steps=0, num_training_steps=len(train_data_loader)*epochs)\n",
    "for epoch in tnrange(epochs, desc='epoch'):\n",
    "    \"\"\" Training stage \"\"\"\n",
    "    epoch_tr_losses = []\n",
    "    print(f'epoch {epoch+1}')\n",
    "    for k, (input_ids, attention_mask, labels) in enumerate(tqdm(train_dataloader, total=len(train_dataloader), desc='batch')):\n",
    "        feed_dict = {'input_ids': input_ids, #.cuda()\n",
    "                     'attention_mask': attention_mask, #.cuda()\n",
    "                     'labels': labels} #.cuda()\n",
    "        \n",
    "        loss, _ = model(**feed_dict)\n",
    "\n",
    "        # gradient accumulation\n",
    "        epoch_tr_losses.append(loss.item())\n",
    "        loss = loss/accumulation_steps\n",
    "        loss.backward()\n",
    "        if (k + 1) % accumulation_steps == 0:\n",
    "            optimizer.step()\n",
    "            model.zero_grad()\n",
    "\n",
    "    tr_losses.append(np.mean(epoch_tr_losses))\n",
    "    print(f'train NLL loss: {np.mean(epoch_tr_losses)}')\n",
    "  \n",
    "    \"\"\" Validation stage \"\"\"\n",
    "    epoch_v_losses = [] \n",
    "    with torch.no_grad():\n",
    "        for k, (input_ids, attention_mask, labels) in enumerate(tqdm(val_dataloader, total=len(val_dataloader), desc='val batch')):\n",
    "            feed_dict = {'input_ids': input_ids, #.cuda()\n",
    "                         'attention_mask': attention_mask, #.cuda()\n",
    "                         'labels': labels}  #.cuda()\n",
    "\n",
    "            loss, pred = model(**feed_dict)\n",
    "            epoch_v_losses.append(loss.item())\n",
    "        v_losses.append(np.mean(epoch_v_losses))\n",
    "    print(f'validation BCE loss: {np.mean(epoch_v_losses)}')\n",
    "    #torch.save(model.classifier.state_dict(), f'/kaggle/working/yelp-head{epoch}.pt')\n",
    "    torch.save(model.classifierstate_dict(), 'checkpoint.pth')"
   ]
  },
  {
   "cell_type": "code",
   "execution_count": null,
   "id": "adpHQfsT-7Ia",
   "metadata": {
    "id": "adpHQfsT-7Ia"
   },
   "outputs": [],
   "source": [
    "plt.plot(tr_losses)\n",
    "plt.plot(v_losses)"
   ]
  },
  {
   "cell_type": "code",
   "execution_count": null,
   "id": "2cvVluruI_cG",
   "metadata": {
    "colab": {
     "base_uri": "https://localhost:8080/",
     "height": 49,
     "referenced_widgets": [
      "b39e35a680df4150bfa3201045d2d71b",
      "b7aa5282df944481a4217d63351f70fb",
      "416585a09a3d4e5dad4d9bee21dd05fb",
      "b8d7c3b2a91d4e838015f1f0434d8f66",
      "27d86daa33024017a33c65adecef6337",
      "c20cbc7d75c4422288a059044ea211de",
      "31ccc4f1e4db44be9cc163011bb04d96",
      "8b6cbce74c3d4dbbbc3776376617d74b",
      "186d689a8e9f4961a97ec28e10e33f30",
      "0ebf180d81ff4f18b8598d1d8923c7cc",
      "47804a1ea9bd4a2fbbdd1f4ba0043650"
     ]
    },
    "id": "2cvVluruI_cG",
    "outputId": "35633983-edd6-4c39-b3a6-657565ea64a3"
   },
   "outputs": [],
   "source": [
    "batch_predictions, batch_actual = [], []\n",
    "with torch.no_grad():\n",
    "    for k, (input_ids, attention_mask, labels) in enumerate(tqdm(test_dataloader, total=len(test_dataloader), desc='val batch')):\n",
    "        feed_dict = {'input_ids': input_ids.cuda(),\n",
    "                     'attention_mask': attention_mask.cuda()} \n",
    "        \n",
    "        pred = model(**feed_dict)[0].cpu()\n",
    "        batch_predictions.append(pred.numpy())\n",
    "        batch_actual.append(labels)"
   ]
  },
  {
   "cell_type": "code",
   "execution_count": null,
   "id": "1H2CcP1nJIv_",
   "metadata": {
    "id": "1H2CcP1nJIv_"
   },
   "outputs": [],
   "source": [
    "predictions = np.array([i for k in batch_predictions for i in k ])\n",
    "\n",
    "predictions = np.argmax(predictions, axis=1)\n",
    "actual = np.array([i for k in batch_actual for i in k ])"
   ]
  },
  {
   "cell_type": "code",
   "execution_count": null,
   "id": "iC_mA3OCJMIL",
   "metadata": {
    "colab": {
     "base_uri": "https://localhost:8080/"
    },
    "id": "iC_mA3OCJMIL",
    "outputId": "b1a873e5-80ea-4b28-e45d-d781c6b1136a"
   },
   "outputs": [],
   "source": [
    "from sklearn.metrics import f1_score\n",
    "f1_score(actual, predictions, average='micro')"
   ]
  },
  {
   "cell_type": "code",
   "execution_count": null,
   "id": "hNb3oCsHJPUF",
   "metadata": {
    "id": "hNb3oCsHJPUF"
   },
   "outputs": [],
   "source": [
    "def plot_confusion_matrix(cm, classes,\n",
    "                          normalize=False,\n",
    "                          title='Confusion matrix',\n",
    "                          cmap=plt.cm.Blues):\n",
    "    \"\"\"\n",
    "    This function prints and plots the confusion matrix.\n",
    "    Normalization can be applied by setting `normalize=True`.\n",
    "    \"\"\"\n",
    "    plt.imshow(cm, interpolation='nearest', cmap=cmap)\n",
    "    plt.title(title)\n",
    "    plt.colorbar()\n",
    "    tick_marks = np.arange(len(classes))\n",
    "    plt.xticks(tick_marks, classes, rotation=45)\n",
    "    plt.yticks(tick_marks, classes)\n",
    "\n",
    "    if normalize:\n",
    "        cm = cm.astype('float') / cm.sum(axis=1)[:, np.newaxis]\n",
    "\n",
    "    thresh = cm.max() / 2.\n",
    "    for i, j in itertools.product(range(cm.shape[0]), range(cm.shape[1])):\n",
    "        plt.text(j, i, cm[i, j],\n",
    "                 horizontalalignment=\"center\",\n",
    "                 color=\"white\" if cm[i, j] > thresh else \"black\")\n",
    "\n",
    "    plt.ylabel('True label')\n",
    "    plt.xlabel('Predicted label')"
   ]
  },
  {
   "cell_type": "code",
   "execution_count": null,
   "id": "uyCCUCupJUS0",
   "metadata": {
    "colab": {
     "base_uri": "https://localhost:8080/",
     "height": 303
    },
    "id": "uyCCUCupJUS0",
    "outputId": "a5cdc4b1-6079-4d4e-fea4-a84cb47f1c2c"
   },
   "outputs": [],
   "source": [
    "# compute the confusion matrix\n",
    "from sklearn.metrics import confusion_matrix\n",
    "import itertools\n",
    "confusion_mtx = confusion_matrix(actual, predictions) \n",
    "# plot the confusion matrix\n",
    "plot_confusion_matrix(confusion_mtx, classes = range(1,6))\n",
    "plt.show()"
   ]
  }
 ],
 "metadata": {
  "accelerator": "GPU",
  "colab": {
   "name": "attempting_bert_3_k_12_8.ipynb",
   "provenance": []
  },
  "kernelspec": {
   "display_name": "Python 3 (ipykernel)",
   "language": "python",
   "name": "python3"
  },
  "language_info": {
   "codemirror_mode": {
    "name": "ipython",
    "version": 3
   },
   "file_extension": ".py",
   "mimetype": "text/x-python",
   "name": "python",
   "nbconvert_exporter": "python",
   "pygments_lexer": "ipython3",
   "version": "3.8.12"
  },
  "widgets": {
   "application/vnd.jupyter.widget-state+json": {
    "0ebf180d81ff4f18b8598d1d8923c7cc": {
     "model_module": "@jupyter-widgets/controls",
     "model_module_version": "1.5.0",
     "model_name": "DescriptionStyleModel",
     "state": {
      "_model_module": "@jupyter-widgets/controls",
      "_model_module_version": "1.5.0",
      "_model_name": "DescriptionStyleModel",
      "_view_count": null,
      "_view_module": "@jupyter-widgets/base",
      "_view_module_version": "1.2.0",
      "_view_name": "StyleView",
      "description_width": ""
     }
    },
    "186d689a8e9f4961a97ec28e10e33f30": {
     "model_module": "@jupyter-widgets/base",
     "model_module_version": "1.2.0",
     "model_name": "LayoutModel",
     "state": {
      "_model_module": "@jupyter-widgets/base",
      "_model_module_version": "1.2.0",
      "_model_name": "LayoutModel",
      "_view_count": null,
      "_view_module": "@jupyter-widgets/base",
      "_view_module_version": "1.2.0",
      "_view_name": "LayoutView",
      "align_content": null,
      "align_items": null,
      "align_self": null,
      "border": null,
      "bottom": null,
      "display": null,
      "flex": null,
      "flex_flow": null,
      "grid_area": null,
      "grid_auto_columns": null,
      "grid_auto_flow": null,
      "grid_auto_rows": null,
      "grid_column": null,
      "grid_gap": null,
      "grid_row": null,
      "grid_template_areas": null,
      "grid_template_columns": null,
      "grid_template_rows": null,
      "height": null,
      "justify_content": null,
      "justify_items": null,
      "left": null,
      "margin": null,
      "max_height": null,
      "max_width": null,
      "min_height": null,
      "min_width": null,
      "object_fit": null,
      "object_position": null,
      "order": null,
      "overflow": null,
      "overflow_x": null,
      "overflow_y": null,
      "padding": null,
      "right": null,
      "top": null,
      "visibility": null,
      "width": null
     }
    },
    "27d86daa33024017a33c65adecef6337": {
     "model_module": "@jupyter-widgets/controls",
     "model_module_version": "1.5.0",
     "model_name": "HTMLModel",
     "state": {
      "_dom_classes": [],
      "_model_module": "@jupyter-widgets/controls",
      "_model_module_version": "1.5.0",
      "_model_name": "HTMLModel",
      "_view_count": null,
      "_view_module": "@jupyter-widgets/controls",
      "_view_module_version": "1.5.0",
      "_view_name": "HTMLView",
      "description": "",
      "description_tooltip": null,
      "layout": "IPY_MODEL_47804a1ea9bd4a2fbbdd1f4ba0043650",
      "placeholder": "​",
      "style": "IPY_MODEL_0ebf180d81ff4f18b8598d1d8923c7cc",
      "value": " 678/678 [12:29&lt;00:00,  1.03s/it]"
     }
    },
    "31ccc4f1e4db44be9cc163011bb04d96": {
     "model_module": "@jupyter-widgets/base",
     "model_module_version": "1.2.0",
     "model_name": "LayoutModel",
     "state": {
      "_model_module": "@jupyter-widgets/base",
      "_model_module_version": "1.2.0",
      "_model_name": "LayoutModel",
      "_view_count": null,
      "_view_module": "@jupyter-widgets/base",
      "_view_module_version": "1.2.0",
      "_view_name": "LayoutView",
      "align_content": null,
      "align_items": null,
      "align_self": null,
      "border": null,
      "bottom": null,
      "display": null,
      "flex": null,
      "flex_flow": null,
      "grid_area": null,
      "grid_auto_columns": null,
      "grid_auto_flow": null,
      "grid_auto_rows": null,
      "grid_column": null,
      "grid_gap": null,
      "grid_row": null,
      "grid_template_areas": null,
      "grid_template_columns": null,
      "grid_template_rows": null,
      "height": null,
      "justify_content": null,
      "justify_items": null,
      "left": null,
      "margin": null,
      "max_height": null,
      "max_width": null,
      "min_height": null,
      "min_width": null,
      "object_fit": null,
      "object_position": null,
      "order": null,
      "overflow": null,
      "overflow_x": null,
      "overflow_y": null,
      "padding": null,
      "right": null,
      "top": null,
      "visibility": null,
      "width": null
     }
    },
    "3f6d43bb7a0a4e33b4548b6b0a9a246a": {
     "model_module": "@jupyter-widgets/controls",
     "model_module_version": "1.5.0",
     "model_name": "DescriptionStyleModel",
     "state": {
      "_model_module": "@jupyter-widgets/controls",
      "_model_module_version": "1.5.0",
      "_model_name": "DescriptionStyleModel",
      "_view_count": null,
      "_view_module": "@jupyter-widgets/base",
      "_view_module_version": "1.2.0",
      "_view_name": "StyleView",
      "description_width": ""
     }
    },
    "416585a09a3d4e5dad4d9bee21dd05fb": {
     "model_module": "@jupyter-widgets/controls",
     "model_module_version": "1.5.0",
     "model_name": "HTMLModel",
     "state": {
      "_dom_classes": [],
      "_model_module": "@jupyter-widgets/controls",
      "_model_module_version": "1.5.0",
      "_model_name": "HTMLModel",
      "_view_count": null,
      "_view_module": "@jupyter-widgets/controls",
      "_view_module_version": "1.5.0",
      "_view_name": "HTMLView",
      "description": "",
      "description_tooltip": null,
      "layout": "IPY_MODEL_31ccc4f1e4db44be9cc163011bb04d96",
      "placeholder": "​",
      "style": "IPY_MODEL_c20cbc7d75c4422288a059044ea211de",
      "value": "val batch: 100%"
     }
    },
    "47804a1ea9bd4a2fbbdd1f4ba0043650": {
     "model_module": "@jupyter-widgets/base",
     "model_module_version": "1.2.0",
     "model_name": "LayoutModel",
     "state": {
      "_model_module": "@jupyter-widgets/base",
      "_model_module_version": "1.2.0",
      "_model_name": "LayoutModel",
      "_view_count": null,
      "_view_module": "@jupyter-widgets/base",
      "_view_module_version": "1.2.0",
      "_view_name": "LayoutView",
      "align_content": null,
      "align_items": null,
      "align_self": null,
      "border": null,
      "bottom": null,
      "display": null,
      "flex": null,
      "flex_flow": null,
      "grid_area": null,
      "grid_auto_columns": null,
      "grid_auto_flow": null,
      "grid_auto_rows": null,
      "grid_column": null,
      "grid_gap": null,
      "grid_row": null,
      "grid_template_areas": null,
      "grid_template_columns": null,
      "grid_template_rows": null,
      "height": null,
      "justify_content": null,
      "justify_items": null,
      "left": null,
      "margin": null,
      "max_height": null,
      "max_width": null,
      "min_height": null,
      "min_width": null,
      "object_fit": null,
      "object_position": null,
      "order": null,
      "overflow": null,
      "overflow_x": null,
      "overflow_y": null,
      "padding": null,
      "right": null,
      "top": null,
      "visibility": null,
      "width": null
     }
    },
    "4c0517f9fd4c4282a0d18c1913605f0f": {
     "model_module": "@jupyter-widgets/controls",
     "model_module_version": "1.5.0",
     "model_name": "HTMLModel",
     "state": {
      "_dom_classes": [],
      "_model_module": "@jupyter-widgets/controls",
      "_model_module_version": "1.5.0",
      "_model_name": "HTMLModel",
      "_view_count": null,
      "_view_module": "@jupyter-widgets/controls",
      "_view_module_version": "1.5.0",
      "_view_name": "HTMLView",
      "description": "",
      "description_tooltip": null,
      "layout": "IPY_MODEL_ecb33bd790654507b2455f29c4fedd82",
      "placeholder": "​",
      "style": "IPY_MODEL_3f6d43bb7a0a4e33b4548b6b0a9a246a",
      "value": "100%"
     }
    },
    "4f48d81f17ff4e11a5df4e2b3ef6d618": {
     "model_module": "@jupyter-widgets/controls",
     "model_module_version": "1.5.0",
     "model_name": "ProgressStyleModel",
     "state": {
      "_model_module": "@jupyter-widgets/controls",
      "_model_module_version": "1.5.0",
      "_model_name": "ProgressStyleModel",
      "_view_count": null,
      "_view_module": "@jupyter-widgets/base",
      "_view_module_version": "1.2.0",
      "_view_name": "StyleView",
      "bar_color": null,
      "description_width": ""
     }
    },
    "592f06d8c5ea46458722f5129e05827b": {
     "model_module": "@jupyter-widgets/controls",
     "model_module_version": "1.5.0",
     "model_name": "DescriptionStyleModel",
     "state": {
      "_model_module": "@jupyter-widgets/controls",
      "_model_module_version": "1.5.0",
      "_model_name": "DescriptionStyleModel",
      "_view_count": null,
      "_view_module": "@jupyter-widgets/base",
      "_view_module_version": "1.2.0",
      "_view_name": "StyleView",
      "description_width": ""
     }
    },
    "5eb74ab5d9b8411ca82b21e96b9fa917": {
     "model_module": "@jupyter-widgets/controls",
     "model_module_version": "1.5.0",
     "model_name": "DescriptionStyleModel",
     "state": {
      "_model_module": "@jupyter-widgets/controls",
      "_model_module_version": "1.5.0",
      "_model_name": "DescriptionStyleModel",
      "_view_count": null,
      "_view_module": "@jupyter-widgets/base",
      "_view_module_version": "1.2.0",
      "_view_name": "StyleView",
      "description_width": ""
     }
    },
    "69b6762715964f4c80019ccff6561e48": {
     "model_module": "@jupyter-widgets/controls",
     "model_module_version": "1.5.0",
     "model_name": "FloatProgressModel",
     "state": {
      "_dom_classes": [],
      "_model_module": "@jupyter-widgets/controls",
      "_model_module_version": "1.5.0",
      "_model_name": "FloatProgressModel",
      "_view_count": null,
      "_view_module": "@jupyter-widgets/controls",
      "_view_module_version": "1.5.0",
      "_view_name": "ProgressView",
      "bar_style": "success",
      "description": "",
      "description_tooltip": null,
      "layout": "IPY_MODEL_9a4490fd742448ba8ceb3058b3cf5a92",
      "max": 21689,
      "min": 0,
      "orientation": "horizontal",
      "style": "IPY_MODEL_c9582003d798401db43e55505b45cab5",
      "value": 21689
     }
    },
    "6bbf356c45f843f3b7f0ac063376a861": {
     "model_module": "@jupyter-widgets/controls",
     "model_module_version": "1.5.0",
     "model_name": "HTMLModel",
     "state": {
      "_dom_classes": [],
      "_model_module": "@jupyter-widgets/controls",
      "_model_module_version": "1.5.0",
      "_model_name": "HTMLModel",
      "_view_count": null,
      "_view_module": "@jupyter-widgets/controls",
      "_view_module_version": "1.5.0",
      "_view_name": "HTMLView",
      "description": "",
      "description_tooltip": null,
      "layout": "IPY_MODEL_f3d3f626b804488290e73260f7fc2f35",
      "placeholder": "​",
      "style": "IPY_MODEL_592f06d8c5ea46458722f5129e05827b",
      "value": " 21689/21689 [00:06&lt;00:00, 6474.07it/s]"
     }
    },
    "6e7d97d214f44455b9ceb1bc5d9368ef": {
     "model_module": "@jupyter-widgets/base",
     "model_module_version": "1.2.0",
     "model_name": "LayoutModel",
     "state": {
      "_model_module": "@jupyter-widgets/base",
      "_model_module_version": "1.2.0",
      "_model_name": "LayoutModel",
      "_view_count": null,
      "_view_module": "@jupyter-widgets/base",
      "_view_module_version": "1.2.0",
      "_view_name": "LayoutView",
      "align_content": null,
      "align_items": null,
      "align_self": null,
      "border": null,
      "bottom": null,
      "display": null,
      "flex": null,
      "flex_flow": null,
      "grid_area": null,
      "grid_auto_columns": null,
      "grid_auto_flow": null,
      "grid_auto_rows": null,
      "grid_column": null,
      "grid_gap": null,
      "grid_row": null,
      "grid_template_areas": null,
      "grid_template_columns": null,
      "grid_template_rows": null,
      "height": null,
      "justify_content": null,
      "justify_items": null,
      "left": null,
      "margin": null,
      "max_height": null,
      "max_width": null,
      "min_height": null,
      "min_width": null,
      "object_fit": null,
      "object_position": null,
      "order": null,
      "overflow": null,
      "overflow_x": null,
      "overflow_y": null,
      "padding": null,
      "right": null,
      "top": null,
      "visibility": null,
      "width": null
     }
    },
    "6fa87aa6e4354d6f859d3c4338bc56ca": {
     "model_module": "@jupyter-widgets/base",
     "model_module_version": "1.2.0",
     "model_name": "LayoutModel",
     "state": {
      "_model_module": "@jupyter-widgets/base",
      "_model_module_version": "1.2.0",
      "_model_name": "LayoutModel",
      "_view_count": null,
      "_view_module": "@jupyter-widgets/base",
      "_view_module_version": "1.2.0",
      "_view_name": "LayoutView",
      "align_content": null,
      "align_items": null,
      "align_self": null,
      "border": null,
      "bottom": null,
      "display": null,
      "flex": null,
      "flex_flow": null,
      "grid_area": null,
      "grid_auto_columns": null,
      "grid_auto_flow": null,
      "grid_auto_rows": null,
      "grid_column": null,
      "grid_gap": null,
      "grid_row": null,
      "grid_template_areas": null,
      "grid_template_columns": null,
      "grid_template_rows": null,
      "height": null,
      "justify_content": null,
      "justify_items": null,
      "left": null,
      "margin": null,
      "max_height": null,
      "max_width": null,
      "min_height": null,
      "min_width": null,
      "object_fit": null,
      "object_position": null,
      "order": null,
      "overflow": null,
      "overflow_x": null,
      "overflow_y": null,
      "padding": null,
      "right": null,
      "top": null,
      "visibility": null,
      "width": null
     }
    },
    "7e5010492de54b44b502de1265b6e0f2": {
     "model_module": "@jupyter-widgets/base",
     "model_module_version": "1.2.0",
     "model_name": "LayoutModel",
     "state": {
      "_model_module": "@jupyter-widgets/base",
      "_model_module_version": "1.2.0",
      "_model_name": "LayoutModel",
      "_view_count": null,
      "_view_module": "@jupyter-widgets/base",
      "_view_module_version": "1.2.0",
      "_view_name": "LayoutView",
      "align_content": null,
      "align_items": null,
      "align_self": null,
      "border": null,
      "bottom": null,
      "display": null,
      "flex": null,
      "flex_flow": null,
      "grid_area": null,
      "grid_auto_columns": null,
      "grid_auto_flow": null,
      "grid_auto_rows": null,
      "grid_column": null,
      "grid_gap": null,
      "grid_row": null,
      "grid_template_areas": null,
      "grid_template_columns": null,
      "grid_template_rows": null,
      "height": null,
      "justify_content": null,
      "justify_items": null,
      "left": null,
      "margin": null,
      "max_height": null,
      "max_width": null,
      "min_height": null,
      "min_width": null,
      "object_fit": null,
      "object_position": null,
      "order": null,
      "overflow": null,
      "overflow_x": null,
      "overflow_y": null,
      "padding": null,
      "right": null,
      "top": null,
      "visibility": null,
      "width": null
     }
    },
    "88f6c8dcb82642fb8c60c8f1d3af4628": {
     "model_module": "@jupyter-widgets/controls",
     "model_module_version": "1.5.0",
     "model_name": "FloatProgressModel",
     "state": {
      "_dom_classes": [],
      "_model_module": "@jupyter-widgets/controls",
      "_model_module_version": "1.5.0",
      "_model_name": "FloatProgressModel",
      "_view_count": null,
      "_view_module": "@jupyter-widgets/controls",
      "_view_module_version": "1.5.0",
      "_view_name": "ProgressView",
      "bar_style": "success",
      "description": "",
      "description_tooltip": null,
      "layout": "IPY_MODEL_6e7d97d214f44455b9ceb1bc5d9368ef",
      "max": 44035,
      "min": 0,
      "orientation": "horizontal",
      "style": "IPY_MODEL_4f48d81f17ff4e11a5df4e2b3ef6d618",
      "value": 44035
     }
    },
    "8b6cbce74c3d4dbbbc3776376617d74b": {
     "model_module": "@jupyter-widgets/controls",
     "model_module_version": "1.5.0",
     "model_name": "ProgressStyleModel",
     "state": {
      "_model_module": "@jupyter-widgets/controls",
      "_model_module_version": "1.5.0",
      "_model_name": "ProgressStyleModel",
      "_view_count": null,
      "_view_module": "@jupyter-widgets/base",
      "_view_module_version": "1.2.0",
      "_view_name": "StyleView",
      "bar_color": null,
      "description_width": ""
     }
    },
    "96d66486649b4aec9a110135ac4a2168": {
     "model_module": "@jupyter-widgets/controls",
     "model_module_version": "1.5.0",
     "model_name": "DescriptionStyleModel",
     "state": {
      "_model_module": "@jupyter-widgets/controls",
      "_model_module_version": "1.5.0",
      "_model_name": "DescriptionStyleModel",
      "_view_count": null,
      "_view_module": "@jupyter-widgets/base",
      "_view_module_version": "1.2.0",
      "_view_name": "StyleView",
      "description_width": ""
     }
    },
    "9a4490fd742448ba8ceb3058b3cf5a92": {
     "model_module": "@jupyter-widgets/base",
     "model_module_version": "1.2.0",
     "model_name": "LayoutModel",
     "state": {
      "_model_module": "@jupyter-widgets/base",
      "_model_module_version": "1.2.0",
      "_model_name": "LayoutModel",
      "_view_count": null,
      "_view_module": "@jupyter-widgets/base",
      "_view_module_version": "1.2.0",
      "_view_name": "LayoutView",
      "align_content": null,
      "align_items": null,
      "align_self": null,
      "border": null,
      "bottom": null,
      "display": null,
      "flex": null,
      "flex_flow": null,
      "grid_area": null,
      "grid_auto_columns": null,
      "grid_auto_flow": null,
      "grid_auto_rows": null,
      "grid_column": null,
      "grid_gap": null,
      "grid_row": null,
      "grid_template_areas": null,
      "grid_template_columns": null,
      "grid_template_rows": null,
      "height": null,
      "justify_content": null,
      "justify_items": null,
      "left": null,
      "margin": null,
      "max_height": null,
      "max_width": null,
      "min_height": null,
      "min_width": null,
      "object_fit": null,
      "object_position": null,
      "order": null,
      "overflow": null,
      "overflow_x": null,
      "overflow_y": null,
      "padding": null,
      "right": null,
      "top": null,
      "visibility": null,
      "width": null
     }
    },
    "a20a94a41ce84ba0949d900840b7fc1f": {
     "model_module": "@jupyter-widgets/controls",
     "model_module_version": "1.5.0",
     "model_name": "HBoxModel",
     "state": {
      "_dom_classes": [],
      "_model_module": "@jupyter-widgets/controls",
      "_model_module_version": "1.5.0",
      "_model_name": "HBoxModel",
      "_view_count": null,
      "_view_module": "@jupyter-widgets/controls",
      "_view_module_version": "1.5.0",
      "_view_name": "HBoxView",
      "box_style": "",
      "children": [
       "IPY_MODEL_4c0517f9fd4c4282a0d18c1913605f0f",
       "IPY_MODEL_69b6762715964f4c80019ccff6561e48",
       "IPY_MODEL_6bbf356c45f843f3b7f0ac063376a861"
      ],
      "layout": "IPY_MODEL_6fa87aa6e4354d6f859d3c4338bc56ca"
     }
    },
    "ac3e6410b4a44332b27e25be7926e939": {
     "model_module": "@jupyter-widgets/controls",
     "model_module_version": "1.5.0",
     "model_name": "HTMLModel",
     "state": {
      "_dom_classes": [],
      "_model_module": "@jupyter-widgets/controls",
      "_model_module_version": "1.5.0",
      "_model_name": "HTMLModel",
      "_view_count": null,
      "_view_module": "@jupyter-widgets/controls",
      "_view_module_version": "1.5.0",
      "_view_name": "HTMLView",
      "description": "",
      "description_tooltip": null,
      "layout": "IPY_MODEL_7e5010492de54b44b502de1265b6e0f2",
      "placeholder": "​",
      "style": "IPY_MODEL_96d66486649b4aec9a110135ac4a2168",
      "value": " 44035/44035 [00:07&lt;00:00, 6311.28it/s]"
     }
    },
    "b1ee62c7b815479c8c6841fe424da0ae": {
     "model_module": "@jupyter-widgets/base",
     "model_module_version": "1.2.0",
     "model_name": "LayoutModel",
     "state": {
      "_model_module": "@jupyter-widgets/base",
      "_model_module_version": "1.2.0",
      "_model_name": "LayoutModel",
      "_view_count": null,
      "_view_module": "@jupyter-widgets/base",
      "_view_module_version": "1.2.0",
      "_view_name": "LayoutView",
      "align_content": null,
      "align_items": null,
      "align_self": null,
      "border": null,
      "bottom": null,
      "display": null,
      "flex": null,
      "flex_flow": null,
      "grid_area": null,
      "grid_auto_columns": null,
      "grid_auto_flow": null,
      "grid_auto_rows": null,
      "grid_column": null,
      "grid_gap": null,
      "grid_row": null,
      "grid_template_areas": null,
      "grid_template_columns": null,
      "grid_template_rows": null,
      "height": null,
      "justify_content": null,
      "justify_items": null,
      "left": null,
      "margin": null,
      "max_height": null,
      "max_width": null,
      "min_height": null,
      "min_width": null,
      "object_fit": null,
      "object_position": null,
      "order": null,
      "overflow": null,
      "overflow_x": null,
      "overflow_y": null,
      "padding": null,
      "right": null,
      "top": null,
      "visibility": null,
      "width": null
     }
    },
    "b2ed993bc2504104847f27be009ea91a": {
     "model_module": "@jupyter-widgets/controls",
     "model_module_version": "1.5.0",
     "model_name": "HTMLModel",
     "state": {
      "_dom_classes": [],
      "_model_module": "@jupyter-widgets/controls",
      "_model_module_version": "1.5.0",
      "_model_name": "HTMLModel",
      "_view_count": null,
      "_view_module": "@jupyter-widgets/controls",
      "_view_module_version": "1.5.0",
      "_view_name": "HTMLView",
      "description": "",
      "description_tooltip": null,
      "layout": "IPY_MODEL_b1ee62c7b815479c8c6841fe424da0ae",
      "placeholder": "​",
      "style": "IPY_MODEL_5eb74ab5d9b8411ca82b21e96b9fa917",
      "value": "100%"
     }
    },
    "b39e35a680df4150bfa3201045d2d71b": {
     "model_module": "@jupyter-widgets/controls",
     "model_module_version": "1.5.0",
     "model_name": "HBoxModel",
     "state": {
      "_dom_classes": [],
      "_model_module": "@jupyter-widgets/controls",
      "_model_module_version": "1.5.0",
      "_model_name": "HBoxModel",
      "_view_count": null,
      "_view_module": "@jupyter-widgets/controls",
      "_view_module_version": "1.5.0",
      "_view_name": "HBoxView",
      "box_style": "",
      "children": [
       "IPY_MODEL_416585a09a3d4e5dad4d9bee21dd05fb",
       "IPY_MODEL_b8d7c3b2a91d4e838015f1f0434d8f66",
       "IPY_MODEL_27d86daa33024017a33c65adecef6337"
      ],
      "layout": "IPY_MODEL_b7aa5282df944481a4217d63351f70fb"
     }
    },
    "b7aa5282df944481a4217d63351f70fb": {
     "model_module": "@jupyter-widgets/base",
     "model_module_version": "1.2.0",
     "model_name": "LayoutModel",
     "state": {
      "_model_module": "@jupyter-widgets/base",
      "_model_module_version": "1.2.0",
      "_model_name": "LayoutModel",
      "_view_count": null,
      "_view_module": "@jupyter-widgets/base",
      "_view_module_version": "1.2.0",
      "_view_name": "LayoutView",
      "align_content": null,
      "align_items": null,
      "align_self": null,
      "border": null,
      "bottom": null,
      "display": null,
      "flex": null,
      "flex_flow": null,
      "grid_area": null,
      "grid_auto_columns": null,
      "grid_auto_flow": null,
      "grid_auto_rows": null,
      "grid_column": null,
      "grid_gap": null,
      "grid_row": null,
      "grid_template_areas": null,
      "grid_template_columns": null,
      "grid_template_rows": null,
      "height": null,
      "justify_content": null,
      "justify_items": null,
      "left": null,
      "margin": null,
      "max_height": null,
      "max_width": null,
      "min_height": null,
      "min_width": null,
      "object_fit": null,
      "object_position": null,
      "order": null,
      "overflow": null,
      "overflow_x": null,
      "overflow_y": null,
      "padding": null,
      "right": null,
      "top": null,
      "visibility": null,
      "width": null
     }
    },
    "b8d7c3b2a91d4e838015f1f0434d8f66": {
     "model_module": "@jupyter-widgets/controls",
     "model_module_version": "1.5.0",
     "model_name": "FloatProgressModel",
     "state": {
      "_dom_classes": [],
      "_model_module": "@jupyter-widgets/controls",
      "_model_module_version": "1.5.0",
      "_model_name": "FloatProgressModel",
      "_view_count": null,
      "_view_module": "@jupyter-widgets/controls",
      "_view_module_version": "1.5.0",
      "_view_name": "ProgressView",
      "bar_style": "success",
      "description": "",
      "description_tooltip": null,
      "layout": "IPY_MODEL_186d689a8e9f4961a97ec28e10e33f30",
      "max": 678,
      "min": 0,
      "orientation": "horizontal",
      "style": "IPY_MODEL_8b6cbce74c3d4dbbbc3776376617d74b",
      "value": 678
     }
    },
    "c20cbc7d75c4422288a059044ea211de": {
     "model_module": "@jupyter-widgets/controls",
     "model_module_version": "1.5.0",
     "model_name": "DescriptionStyleModel",
     "state": {
      "_model_module": "@jupyter-widgets/controls",
      "_model_module_version": "1.5.0",
      "_model_name": "DescriptionStyleModel",
      "_view_count": null,
      "_view_module": "@jupyter-widgets/base",
      "_view_module_version": "1.2.0",
      "_view_name": "StyleView",
      "description_width": ""
     }
    },
    "c74ba7255ec74d4f8c99f882193f06e2": {
     "model_module": "@jupyter-widgets/base",
     "model_module_version": "1.2.0",
     "model_name": "LayoutModel",
     "state": {
      "_model_module": "@jupyter-widgets/base",
      "_model_module_version": "1.2.0",
      "_model_name": "LayoutModel",
      "_view_count": null,
      "_view_module": "@jupyter-widgets/base",
      "_view_module_version": "1.2.0",
      "_view_name": "LayoutView",
      "align_content": null,
      "align_items": null,
      "align_self": null,
      "border": null,
      "bottom": null,
      "display": null,
      "flex": null,
      "flex_flow": null,
      "grid_area": null,
      "grid_auto_columns": null,
      "grid_auto_flow": null,
      "grid_auto_rows": null,
      "grid_column": null,
      "grid_gap": null,
      "grid_row": null,
      "grid_template_areas": null,
      "grid_template_columns": null,
      "grid_template_rows": null,
      "height": null,
      "justify_content": null,
      "justify_items": null,
      "left": null,
      "margin": null,
      "max_height": null,
      "max_width": null,
      "min_height": null,
      "min_width": null,
      "object_fit": null,
      "object_position": null,
      "order": null,
      "overflow": null,
      "overflow_x": null,
      "overflow_y": null,
      "padding": null,
      "right": null,
      "top": null,
      "visibility": null,
      "width": null
     }
    },
    "c9582003d798401db43e55505b45cab5": {
     "model_module": "@jupyter-widgets/controls",
     "model_module_version": "1.5.0",
     "model_name": "ProgressStyleModel",
     "state": {
      "_model_module": "@jupyter-widgets/controls",
      "_model_module_version": "1.5.0",
      "_model_name": "ProgressStyleModel",
      "_view_count": null,
      "_view_module": "@jupyter-widgets/base",
      "_view_module_version": "1.2.0",
      "_view_name": "StyleView",
      "bar_color": null,
      "description_width": ""
     }
    },
    "e3b0ffe3db0e4303a56abc6fd662df9a": {
     "model_module": "@jupyter-widgets/controls",
     "model_module_version": "1.5.0",
     "model_name": "HBoxModel",
     "state": {
      "_dom_classes": [],
      "_model_module": "@jupyter-widgets/controls",
      "_model_module_version": "1.5.0",
      "_model_name": "HBoxModel",
      "_view_count": null,
      "_view_module": "@jupyter-widgets/controls",
      "_view_module_version": "1.5.0",
      "_view_name": "HBoxView",
      "box_style": "",
      "children": [
       "IPY_MODEL_b2ed993bc2504104847f27be009ea91a",
       "IPY_MODEL_88f6c8dcb82642fb8c60c8f1d3af4628",
       "IPY_MODEL_ac3e6410b4a44332b27e25be7926e939"
      ],
      "layout": "IPY_MODEL_c74ba7255ec74d4f8c99f882193f06e2"
     }
    },
    "ecb33bd790654507b2455f29c4fedd82": {
     "model_module": "@jupyter-widgets/base",
     "model_module_version": "1.2.0",
     "model_name": "LayoutModel",
     "state": {
      "_model_module": "@jupyter-widgets/base",
      "_model_module_version": "1.2.0",
      "_model_name": "LayoutModel",
      "_view_count": null,
      "_view_module": "@jupyter-widgets/base",
      "_view_module_version": "1.2.0",
      "_view_name": "LayoutView",
      "align_content": null,
      "align_items": null,
      "align_self": null,
      "border": null,
      "bottom": null,
      "display": null,
      "flex": null,
      "flex_flow": null,
      "grid_area": null,
      "grid_auto_columns": null,
      "grid_auto_flow": null,
      "grid_auto_rows": null,
      "grid_column": null,
      "grid_gap": null,
      "grid_row": null,
      "grid_template_areas": null,
      "grid_template_columns": null,
      "grid_template_rows": null,
      "height": null,
      "justify_content": null,
      "justify_items": null,
      "left": null,
      "margin": null,
      "max_height": null,
      "max_width": null,
      "min_height": null,
      "min_width": null,
      "object_fit": null,
      "object_position": null,
      "order": null,
      "overflow": null,
      "overflow_x": null,
      "overflow_y": null,
      "padding": null,
      "right": null,
      "top": null,
      "visibility": null,
      "width": null
     }
    },
    "f3d3f626b804488290e73260f7fc2f35": {
     "model_module": "@jupyter-widgets/base",
     "model_module_version": "1.2.0",
     "model_name": "LayoutModel",
     "state": {
      "_model_module": "@jupyter-widgets/base",
      "_model_module_version": "1.2.0",
      "_model_name": "LayoutModel",
      "_view_count": null,
      "_view_module": "@jupyter-widgets/base",
      "_view_module_version": "1.2.0",
      "_view_name": "LayoutView",
      "align_content": null,
      "align_items": null,
      "align_self": null,
      "border": null,
      "bottom": null,
      "display": null,
      "flex": null,
      "flex_flow": null,
      "grid_area": null,
      "grid_auto_columns": null,
      "grid_auto_flow": null,
      "grid_auto_rows": null,
      "grid_column": null,
      "grid_gap": null,
      "grid_row": null,
      "grid_template_areas": null,
      "grid_template_columns": null,
      "grid_template_rows": null,
      "height": null,
      "justify_content": null,
      "justify_items": null,
      "left": null,
      "margin": null,
      "max_height": null,
      "max_width": null,
      "min_height": null,
      "min_width": null,
      "object_fit": null,
      "object_position": null,
      "order": null,
      "overflow": null,
      "overflow_x": null,
      "overflow_y": null,
      "padding": null,
      "right": null,
      "top": null,
      "visibility": null,
      "width": null
     }
    }
   }
  }
 },
 "nbformat": 4,
 "nbformat_minor": 5
}
